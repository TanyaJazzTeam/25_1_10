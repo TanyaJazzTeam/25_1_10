{
  "cells": [
    {
      "cell_type": "markdown",
      "id": "13690dd7",
      "metadata": {
        "gloss": {
          "altnoise": {
            "text": "In the context of information, *noise* refers to unwanted disturbances or alterations, which may be caused by imperfect hardware or uncontrollable factors in the environment. As an example phrased in mathematical terms, a bit in a computer memory that spontaneously flips with some probability could be described as being noisy.",
            "title": "Noise"
          },
          "quantum-information": {
            "text": "*Quantum information* is both a concept and a framework for modeling and describing information in quantum systems. While it is based on and motivated by quantum physics, the physical details can largely be abstracted away, leaving a mathematical framework that is applicable to a variety of specific physical systems.",
            "title": "Quantum information"
          }
        }
      },
      "source": [
        "# Einzelne Systeme\n",
        "\n",
        "![Illustration eines Notizbuchs und eines Atoms.](images/single-systems-hero.png) dsa\n",
        "\n",
        "Diese Lektion führt in das Grundgerüst der [Quanteninformation](gloss:quantum-information) ein, einschließlich der Beschreibung von Quantenzuständen als Vektoren mit komplexen Zahleneinträgen, Messungen, die es ermöglichen, klassische Informationen aus Quantenzuständen zu extrahieren, und Operationen an Quantenzuständen, die durch einheitliche Matrizen beschrieben werden. Wir werden unsere Aufmerksamkeit in dieser Lektion auf die vergleichsweise einfache Situation beschränken, in der ein einzelnes System isoliert betrachtet wird. In der nächsten Lektion erweitern wir unseren Blick auf mehrere Systeme, die miteinander interagieren und beispielsweise korreliert werden können.\n",
        "\n",
        "Tatsächlich gibt es zwei gängige mathematische Beschreibungen von Quanteninformationen. Die in dieser Lektion vorgestellte ist die einfachere der beiden. Diese Beschreibung reicht aus, um viele (oder vielleicht die meisten) Quantenalgorithmen zu verstehen, und ist ein natürlicher Ausgangspunkt aus pädagogischer Sicht. s\n",
        "\n",
        "Eine allgemeinere und letztendlich aussagekräftigere Beschreibung der Quanteninformation, in der Quantenzustände durch *Dichtematrizen dargestellt werden* , wird in einer späteren Lektion eingeführt. Die Beschreibung der Dichtematrix ist aus mehreren Gründen für das Studium der Quanteninformation wesentlich. Beispielsweise können sie verwendet werden, um die Auswirkungen von [Rauschen](gloss:altnoise) auf Quantenberechnungen oder den Zustand eines Teils eines verschränkten Paares zu modellieren. Im Allgemeinen dienen Dichtematrizen als mathematische Grundlage für die Quanteninformationstheorie und die Quantenkryptographie und sind aus mathematischer Sicht sehr schön. Aus diesen Gründen möchten wir Sie dazu ermutigen, mehr darüber zu lernen, wenn die Zeit reif ist, aber im Moment wird unser Fokus auf der einfacheren Beschreibung von Quanteninformationen liegen."
      ]
    },
    {
      "cell_type": "markdown",
      "id": "96a87980",
      "metadata": {
        "gloss": {
          "classical": {
            "text": "The term *classical* refers to concepts, ideas, and descriptions based on physical theories (such as Newtonian physics) that predate the discovery of quantum theory. In the context of information, it can be interpreted as meaning *not quantum* or not specifically connected to quantum information.",
            "title": "Classical"
          }
        }
      },
      "source": [
        "## 1. Klassische Informationen<a id=\"single-systems-classical\"></a>\n",
        "\n",
        "![Illustration von Würfeln, einer DNA-Helix und Münzen.](images/classical-information-hero.png)\n",
        "\n",
        "Um die Quanteninformation und ihre Funktionsweise zu beschreiben, beginnen wir mit einem Überblick über die [klassische](gloss:classical) Information. Einige Leser fragen sich vielleicht, warum wir uns entschieden haben, in einem Kurs über *Quanteninformation* der klassischen Information so viel Aufmerksamkeit zu widmen, aber es gibt gute Gründe. Obwohl sich Quanten- und klassische Information auf ziemlich spektakuläre Weise unterscheiden, sind ihre mathematischen Beschreibungen eigentlich ziemlich ähnlich.\n",
        "\n",
        "Klassische Informationen dienen auch als vertrauter Bezugspunkt beim Studium der Quanteninformation und als überraschend weitreichende Analogiequelle. Es ist üblich, dass Menschen Fragen zu Quanteninformationen stellen, die natürliche klassische Analoga haben – oft mit einfachen Antworten, die sowohl Klarheit als auch Einblick in die ursprünglichen Fragen zur Quanteninformation bieten können. Tatsächlich ist es überhaupt nicht unvernünftig zu behaupten, dass man Quanteninformationen nicht wirklich verstehen kann, ohne klassische Informationen zu verstehen.\n",
        "\n",
        "Einige Leser sind möglicherweise bereits mit dem in diesem Abschnitt zu diskutierenden Material vertraut, andere nicht – aber die Diskussion ist für beide Zielgruppen gedacht. Neben der Hervorhebung der Aspekte der klassischen Information, die für eine Einführung in die Quanteninformation am relevantesten sind, stellt dieser Abschnitt die *Dirac-Notation* vor, die häufig zur Beschreibung von Vektoren und Matrizen in der Quanteninformation und -berechnung verwendet wird. Wie sich herausstellt, ist die Dirac-Notation nicht spezifisch für Quanteninformationen: Sie kann genauso gut im Kontext klassischer Informationen verwendet werden, sowie für viele andere Situationen, in denen Vektoren und Matrizen auftreten."
      ]
    },
    {
      "cell_type": "markdown",
      "id": "21a83c79",
      "metadata": {
        "formulas": {
          "_sigma": {
            "say": "\"Sigma\""
          },
          "probability": {
            "meaning": "The probability of the expression in the parentheses to the right being true."
          }
        },
        "gloss": {
          "system": {
            "text": "In this course, a system is an abstraction of a physical device or a medium that stores information.",
            "title": "System"
          }
        }
      },
      "source": [
        "### 1.1 Klassische Zustände und Wahrscheinlichkeitsvektoren<a id=\"classical-states\"></a>\n",
        "\n",
        "Angenommen, wir haben ein [System](gloss:system) , das Informationen speichert. Nehmen wir genauer gesagt an, dass sich dieses System zu jedem Zeitpunkt in einem von endlich vielen *klassischen Zuständen* befinden kann. Dabei ist der Begriff „klassischer Zustand“ intuitiv zu verstehen, als eindeutig erkennbare und beschreibbare Konfiguration.\n",
        "\n",
        "Das archetypische Beispiel, auf das wir immer wieder zurückkommen werden, ist das eines *Bits* , bei dem es sich um ein System handelt, dessen klassische Zustände 0 und 1 sind. Andere Beispiele umfassen einen standardmäßigen sechsseitigen Würfel, dessen klassische Zustände 1, 2, 3 sind, 4, 5 und 6; eine Nukleobase in einem DNA-Strang, deren klassische Zustände *A* , *C* , *G* und *T* sind; und ein Schalter an einem elektrischen Lüfter, dessen klassische Zustände (üblicherweise) *hoch* , *mittel* , *niedrig* und *aus sind* . Mathematisch gesehen ist die Spezifikation der klassischen Zustände eines Systems eigentlich der Ausgangspunkt: Wir definieren ein Bit als ein System, das die klassischen Zustände 0 und 1 hat, und ebenso für Systeme mit unterschiedlichen klassischen Zustandsmengen.\n",
        "\n",
        "Um dieser Diskussion willen geben wir dem betrachteten System den Namen $\\mathsf{X}$ und verwenden das Symbol $\\class{_sigma}{\\Sigma}$, um auf die Menge der klassischen Zustände zu verweisen von $\\mathsf{X}$. Neben der bereits erwähnten Annahme, dass $\\Sigma$ endlich ist, gehen wir natürlich davon aus, dass $\\Sigma$ nicht leer ist: Es ist unsinnig, dass ein physikalisches System überhaupt keine Zustände hat. Obwohl es sinnvoll ist, physikalische Systeme mit unendlich vielen klassischen Zuständen zu betrachten, ignorieren wir diese Möglichkeit vorerst. Selbst innerhalb einer begrenzten Anzahl von Staaten gibt es viele interessante Ideen zu erforschen. Der Einfachheit halber und der Kürze halber werden wir im Folgenden den Begriff *klassische Zustandsmenge verwenden* , um jede endliche und nicht leere Menge zu bezeichnen.\n",
        "\n",
        "Wenn zum Beispiel $\\mathsf{X}$ ein Bit ist, dann ist $\\Sigma = {0,1}$ (was oft als *binäres Alphabet* bezeichnet wird); wenn $\\mathsf{X}$ ein sechsseitiger Würfel ist, dann ist $\\Sigma = {1,2,3,4,5,6}$; und wenn $\\mathsf{X}$ ein elektrischer Lüfterschalter ist, dann ist $\\Sigma = {\\mathrm{high}, \\mathrm{medium}, \\mathrm{low}, \\mathrm{off}}$.\n",
        "\n",
        "Denkt man an $\\mathsf{X}$ als Informationsträger, könnten den verschiedenen klassischen Zuständen von $\\mathsf{X}$ bestimmte Bedeutungen zugeordnet werden, die zu unterschiedlichen Ergebnissen oder Konsequenzen führen. In solchen Fällen kann es ausreichen, $\\mathsf{X}$ einfach in einem seiner möglichen klassischen Zustände zu beschreiben. Wenn beispielsweise $\\mathsf{X}$ ein Lüfterschalter ist, wissen wir vielleicht mit Sicherheit, dass er auf *high* steht. In der Informationsverarbeitung ist unser Wissen über $\\mathsf{X}$ jedoch oft unsicher. Wir stellen unser Wissen über den klassischen Zustand von $\\mathsf{X}$ dar, indem wir jedem klassischen Zustand Wahrscheinlichkeiten zuweisen, was zu einem *probabilistischen Zustand* führt.\n",
        "\n",
        "Angenommen, $\\mathsf{X}$ ist ein bisschen. Basierend auf dem, was wir darüber wissen oder erwarten, was mit $\\mathsf{X}$ in der Vergangenheit passiert ist, glauben wir vielleicht, dass sich $\\mathsf{X}$ im klassischen Zustand $0$ mit einer Wahrscheinlichkeit von $3/4$ befindet und im Geben Sie $1$ mit einer Wahrscheinlichkeit von $1/4 an.$ Wir können eine solche Überzeugung vertreten, indem wir Folgendes schreiben:\n",
        "\n",
        "$$\n",
        "\\class{probability}{\\operatorname{Pr}}(\\mathsf{X}=0) = \\frac{3}{4}\n",
        "\\quad\\text{and}\\quad\n",
        "\\class{probability}{\\operatorname{Pr}}(\\mathsf{X}=1) = \\frac{1}{4}.\n",
        "$$\n",
        "\n",
        "Eine prägnantere Art, diesen probabilistischen Zustand darzustellen, ist durch einen Spaltenvektor.\n",
        "\n",
        "$$\n",
        "\\begin{pmatrix}\n",
        "  \\frac{3}{4}\\\\[1mm]\n",
        "  \\frac{1}{4}\n",
        "\\end{pmatrix}\n",
        "$$\n",
        "\n",
        "Die Wahrscheinlichkeit, dass das Bit $0$ ist, wird oben im Vektor platziert und die Wahrscheinlichkeit, dass das Bit $1$ ist, wird unten platziert, einfach weil dies die herkömmliche Art ist, die Menge ${0,1}$ zu ordnen.\n",
        "\n",
        "Im Allgemeinen können wir einen probabilistischen Zustand eines Systems mit einem beliebigen klassischen Zustandssatz auf die gleiche Weise als Vektor von Wahrscheinlichkeiten darstellen. Die Wahrscheinlichkeiten können auf jede von uns gewählte Weise geordnet werden – was typischerweise durch eine natürliche oder standardmäßige Art und Weise bestimmt wird, die klassische Zustandsmenge, mit der wir arbeiten, zu ordnen. Um genau zu sein, können wir jeden probabilistischen Zustand durch einen Spaltenvektor darstellen, der zwei Eigenschaften erfüllt:\n",
        "\n",
        "1. Alle Einträge des Vektors sind *nichtnegative reelle Zahlen* .\n",
        "2. Die Summe der Einträge ist gleich $1.$\n",
        "\n",
        "Umgekehrt kann jeder Spaltenvektor, der diese beiden Eigenschaften erfüllt, als Darstellung eines probabilistischen Zustands genommen werden. Nachfolgend werden wir Vektoren dieser Form als *Wahrscheinlichkeitsvektoren* bezeichnen.\n",
        "\n",
        "Neben der Prägnanz dieser Notation hat die Identifizierung probabilistischer Zustände als Spaltenvektoren den Vorteil, dass Operationen auf probabilistischen Zuständen durch Matrix-Vektor-Multiplikation dargestellt werden, wie weiter unten diskutiert wird.\n",
        "\n",
        "<!-- ::: q-block.exercise -->\n",
        "\n",
        "### Schnelles Quiz\n",
        "\n",
        "<!-- ::: q-quiz(goal=\"ss-quiz-1\") -->\n",
        "\n",
        "<!-- ::: .question -->\n",
        "\n",
        "Welcher davon ist ein gültiger Wahrscheinlichkeitsvektor?\n",
        "\n",
        "<!-- ::: -->\n",
        "\n",
        "<!-- ::: .option -->\n",
        "\n",
        "1. $\\begin{pmatrix} \\sqrt{2}\\\\ 1 - \\sqrt{2} \\end{pmatrix}$\n",
        "\n",
        "<!-- ::: -->\n",
        "\n",
        "<!-- ::: .option -->\n",
        "\n",
        "1. $\\begin{pmatrix} 0,3 \\\\ 0,3 \\end{pmatrix}$\n",
        "\n",
        "<!-- ::: -->\n",
        "\n",
        "<!-- ::: .option(correct) -->\n",
        "\n",
        "1. $\\begin{pmatrix} 0 \\\\ 1 \\\\ 0 \\end{pmatrix}$\n",
        "\n",
        "<!-- ::: -->\n",
        "\n",
        "<!-- ::: -->\n",
        "\n",
        "<!-- ::: -->"
      ]
    },
    {
      "cell_type": "markdown",
      "id": "936e5686",
      "metadata": {
      },
      "source": [
        "### 1.2 Messung probabilistischer Zustände<a id=\"classical-measure\"></a>\n",
        "\n",
        "Betrachten wir nun kurz, was passiert, wenn wir ein System *messen* , wenn es sich in einem probabilistischen Zustand befindet. Mit Messen eines Systems meinen wir, dass wir das System betrachten und eindeutig erkennen, in welchem klassischen Zustand es sich befindet. Intuitiv können wir ein System niemals in einem probabilistischen Zustand „sehen“; eine Messung liefert genau einen der erlaubten klassischen Zustände.\n",
        "\n",
        "Die Messung verändert unser Wissen über das System und damit den probabilistischen Zustand, den wir mit diesem System assoziieren: Wenn wir erkennen, dass sich $\\mathsf{X}$ im klassischen Zustand $a\\in\\Sigma$ befindet, dann der neue Wahrscheinlichkeitsvektor unser Wissen über $\\mathsf{X}$ darstellt, wird zu einem Vektor mit einem $1$ im Eintrag, der $a$ entspricht, und $0$ für alle anderen Einträge. Dieser Vektor zeigt an, dass sich $\\mathsf{X}$ mit Sicherheit im klassischen Zustand $a$ befindet, den wir gerade erkannt haben.\n",
        "\n",
        "Wir bezeichnen den gerade beschriebenen Vektor, d. h. den Vektor mit einem $1$ im Eintrag, der $a$ entspricht, und $0$ für alle anderen Einträge, mit $\\vert a\\rangle.$ Dieser Vektor wird gelesen als \"ket $a$\" aus einem Grund, der gleich erklärt wird. Vektoren dieser Art werden auch *Standardbasisvektoren* genannt.\n",
        "\n",
        "Angenommen, das System, an das wir denken, ist beispielsweise ein Bit, sind die Standardbasisvektoren gegeben durch\n",
        "\n",
        "$$\n",
        "  \\vert 0\\rangle = \\begin{pmatrix}1\\\\0\\end{pmatrix}\n",
        "  \\quad\\text{and}\\quad\n",
        "  \\vert 1\\rangle = \\begin{pmatrix}0\\\\1\\end{pmatrix}.\n",
        "$$\n",
        "\n",
        "Beachten Sie, dass jeder zweidimensionale Spaltenvektor als Linearkombination dieser beiden Vektoren ausgedrückt werden kann. Wir haben zum Beispiel\n",
        "\n",
        "$$\n",
        "\\begin{pmatrix}\n",
        "  \\frac{3}{4}\\\\[2mm]\n",
        "  \\frac{1}{4}\n",
        "\\end{pmatrix}\n",
        "= \\frac{3}{4}\\,\\vert 0\\rangle + \\frac{1}{4}\\,\\vert 1\\rangle.\n",
        "$$\n",
        "\n",
        "Diese Tatsache lässt sich natürlich auf jeden klassischen Zustandssatz verallgemeinern: Jeder Spaltenvektor ist eine Linearkombination über den klassischen Zuständen. Das Ausdrücken von Vektoren als lineare Kombinationen von Standardbasisvektoren wird in Zukunft sehr typisch sein.\n",
        "\n",
        "Zurückkommend auf die Änderung eines probabilistischen Zustands bei Messung, können wir die folgende Verbindung zu unseren alltäglichen Erfahrungen feststellen. Angenommen, wir werfen eine faire Münze, decken die Münze aber ab, bevor wir sie betrachten. Wir würden dann sagen, dass sein probabilistischer Zustand ist\n",
        "\n",
        "$$\n",
        "\\begin{pmatrix}\n",
        "  \\frac{1}{2}\\\\[2mm]\n",
        "  \\frac{1}{2}\n",
        "\\end{pmatrix}\n",
        "= \\frac{1}{2}\\,\\vert\\text{heads}\\rangle + \\frac{1}{2}\\,\\vert\\text{tails}\\rangle.\n",
        "$$\n",
        "\n",
        "Hier ist die klassische Zustandsmenge unserer Münze ${\\text{heads},\\text{tails}}$. Wir entscheiden uns dafür, diese Zustände als „Kopf zuerst“ und „Zahl“ als zweites zu ordnen.\n",
        "\n",
        "$$\n",
        "\\vert\\text{heads}\\rangle = \\begin{pmatrix}1\\\\0\\end{pmatrix}\n",
        "\\quad\\text{and}\\quad\n",
        "\\vert\\text{tails}\\rangle = \\begin{pmatrix}0\\\\1\\end{pmatrix}\n",
        "$$\n",
        "\n",
        "Wenn wir die Münze aufdecken und betrachten würden, würden wir einen der beiden klassischen Zustände sehen: Kopf oder Zahl. Angenommen, das Ergebnis wäre Zahl, würden wir natürlich unsere Beschreibung des probabilistischen Zustands der Münze aktualisieren, sodass sie zu $|\\text{Zahlen}\\rangle$ wird. Wenn wir die Münze dann zudecken und sie dann aufdecken und erneut betrachten würden, wäre der klassische Zustand natürlich immer noch Zahl, was mit dem probabilistischen Zustand übereinstimmt, der durch den Vektor $|\\text{Zahlen} beschrieben wird. \\rangle$. Das mag trivial erscheinen, und in gewissem Sinne ist es das auch. Ganz analog verhalten sich Quantensysteme, deren Messeigenschaften jedoch häufig als ungewöhnlich oder „spukhaft“ gelten. Durch die Feststellung der Messeigenschaften klassischer Systeme mag das analoge Verhalten für Quanteninformationen weniger ungewöhnlich erscheinen.\n",
        "\n",
        "Eine letzte Bemerkung zu Messungen probabilistischer Zustände: Sie können Wissen oder Überzeugungen beschreiben, nicht unbedingt etwas Tatsächliches. Der Zustand unserer Münze, nachdem wir sie geworfen haben, aber bevor wir nachsehen, ist entweder Kopf oder Zahl, und wir wissen einfach nicht, welcher, bis wir nachsehen. Dadurch ändert sich nicht der Zustand, sondern nur unser Wissen darüber. Wenn wir sehen, dass der klassische Zustand Zahl ist, aktualisieren wir natürlich unser Wissen, indem wir den Vektor $|\\text{Zahlen}\\rangle$ der Münze zuweisen, aber jemand anderem, der die Münze nicht gesehen hat, als sie aufgedeckt wurde, den probabilistischen Zustand bleibt unverändert. Dies ist kein Grund zur Besorgnis: Verschiedene Personen können unterschiedliche Kenntnisse oder Überzeugungen über ein bestimmtes System haben und dieses System daher durch unterschiedliche Wahrscheinlichkeitsvektoren beschreiben."
      ]
    },
    {
      "cell_type": "markdown",
      "id": "5ac2b210",
      "metadata": {
        "formulas": {
          "_m00": {
            "meaning": "The probability this operation transforms the input bit from 0 to 0."
          },
          "_m01": {
            "meaning": "The probability this operation transforms the input bit from 0 to 1."
          },
          "_m10": {
            "meaning": "The probability this operation transforms the input bit from 1 to 0."
          },
          "_m11": {
            "meaning": "The probability this operation transforms the input bit from 1 to 1."
          }
        },
        "gloss": {
          "altdeterministic": {
            "text": "An operation is deterministic if the result is completely determined by the input without any element of chance or uncertainty.",
            "title": "Deterministic"
          },
          "altstochastic": {
            "text": "*Stochastic* means ivolving randomness, chance, or uncertainty.",
            "title": "Stochastic"
          },
          "associative": {
            "text": "An operation is associative if we can move the position of the parentheses and get the same result. <br><a href=\"https://en.wikipedia.org/wiki/Associative_property\">Read more</a>",
            "title": "Associativity"
          },
          "commutative": {
            "text": "If an operation is commutative, switching the order of the inputs does not change the result.<br><a href=\"https://en.wikipedia.org/wiki/Commutative_property\">Read more</a>",
            "title": "Commutativity"
          },
          "composing": {
            "text": "Composition refers to applying one function after another.<br><a href=\"https://en.wikipedia.org/wiki/Function_composition\">Read more</a>.",
            "title": "Composition"
          },
          "dirac": {
            "text": "Paul Dirac was a physicist who made key contributions to the development of quantum physics.<br><a href=\"https://en.wikipedia.org/wiki/Paul_Dirac\">Read more</a>.",
            "title": "Paul Dirac"
          },
          "identity-function": {
            "text": "The identity function returns its input unchanged.",
            "title": "Identity"
          }
        }
      },
      "source": [
        "### 1.3 Klassische Operationen<a id=\"classical-operations\"></a>\n",
        "\n",
        "Im letzten Teil dieser kurzen Zusammenfassung klassischer Informationen werden wir die Arten von Operationen betrachten, die man auf einem klassischen System ausführen könnte.\n",
        "\n",
        "#### Deterministische Operationen\n",
        "\n",
        "Erstens gibt es [deterministische](gloss:altdeterministic) Operationen, bei denen jeder klassische Zustand $a\\in\\Sigma$ für eine Funktion $f$ der Form $f:\\Sigma\\rightarrow\\Sigma$ in $f(a)$ transformiert wird.\n",
        "\n",
        "Wenn beispielsweise $\\Sigma = {0,1}$, gibt es vier Funktionen dieser Form, $f_1$, $f_2$, $f_3$ und $f_4$, die wie folgt durch Wertetabellen dargestellt werden können :\n",
        "\n",
        "$$\n",
        "\\rule[-10mm]{0mm}{15mm}\n",
        "\\begin{array}{c|c}\n",
        "  a &amp; f_1(a)\\\\\n",
        "  \\hline\n",
        "  0 &amp; 0\\\\\n",
        "  1 &amp; 0\n",
        "\\end{array}\n",
        "\\qquad\n",
        "\\begin{array}{c|c}\n",
        "  a &amp; f_2(a)\\\\\n",
        "  \\hline\n",
        "  0 &amp; 0\\\\\n",
        "  1 &amp; 1\n",
        "\\end{array}\n",
        "\\qquad\n",
        "\\begin{array}{c|c}\n",
        "  a &amp; f_3(a)\\\\\n",
        "  \\hline\n",
        "  0 &amp; 1\\\\\n",
        "  1 &amp; 0\n",
        "\\end{array}\n",
        "\\qquad\n",
        "\\begin{array}{c|c}\n",
        "  a &amp; f_4(a)\\\\\n",
        "  \\hline\n",
        "  0 &amp; 1\\\\\n",
        "  1 &amp; 1\n",
        "\\end{array}\n",
        "$$\n",
        "\n",
        "Die erste und letzte dieser Funktionen sind *konstant* : $f_1(a) = 0$ und $f_4(a) = 1$ für jedes $a\\in\\Sigma$. Die mittleren beiden sind nicht konstant, sie sind *ausgeglichen* , in dem Sinne, dass die beiden möglichen Ausgangswerte gleich oft auftreten, wenn wir uns über die möglichen Eingänge bewegen. Die Funktion $f_2$ ist die [Identitätsfunktion](gloss:identity-function) : $f_2(a) = a$ für jedes $a\\in\\Sigma$. Und $f_3$ ist die Funktion $f_3(0) = 1$ und $f_3(1) = 0$, besser bekannt als NOT-Funktion.\n",
        "\n",
        "Die Aktionen deterministischer Operationen auf probabilistische Zustände können durch Matrix-Vektor-Multiplikation dargestellt werden. Insbesondere ist die Matrix $M$, die eine gegebene Funktion $f:\\Sigma\\rightarrow\\Sigma$ darstellt, diejenige, die erfüllt\n",
        "\n",
        "$$\n",
        "M \\vert a \\rangle = \\vert f(a)\\rangle\n",
        "$$\n",
        "\n",
        "für jedes $a\\in\\Sigma$. Eine solche Matrix existiert immer und ist eindeutig.\n",
        "\n",
        "Beispielsweise lauten die Matrizen $M_1,\\ldots,M_4$, die den obigen Funktionen $f_1,\\ldots,f_4$ entsprechen, wie folgt:\n",
        "\n",
        "$$\n",
        "  \\rule[-6mm]{0mm}{14.5mm}\n",
        "  M_1 =\n",
        "  \\begin{pmatrix}\n",
        "    \\class{_m00}{1} &amp; \\class{_m10}{1}\\\\\n",
        "    \\class{_m01}{0} &amp; \\class{_m11}{0}\n",
        "  \\end{pmatrix},\n",
        "  \\hspace{4mm}\n",
        "  M_2 =\n",
        "  \\begin{pmatrix}\n",
        "    \\class{_m00}{1} &amp; \\class{_m10}{0}\\\\\n",
        "    \\class{_m01}{0} &amp; \\class{_m11}{1}\n",
        "  \\end{pmatrix},\n",
        "  \\hspace{4mm}\n",
        "  M_3 =\n",
        "  \\begin{pmatrix}\n",
        "    \\class{_m00}{0} &amp; \\class{_m10}{1}\\\\\n",
        "    \\class{_m01}{1} &amp; \\class{_m11}{0}\n",
        "  \\end{pmatrix},\n",
        "  \\hspace{4mm}\n",
        "  \\text{and}\n",
        "  \\hspace{4mm}\n",
        "  M_4 =\n",
        "  \\begin{pmatrix}\n",
        "    \\class{_m00}{0} &amp; \\class{_m10}{0}\\\\\n",
        "    \\class{_m01}{1} &amp; \\class{_m11}{1}\n",
        "  \\end{pmatrix}.\n",
        "$$\n",
        "\n",
        "Matrizen, die deterministische Operationen darstellen, haben immer genau ein $1$ in jeder Spalte und $0$ für alle anderen Einträge.\n",
        "\n",
        "Eine bequeme Möglichkeit, Matrizen dieser und anderer Formen darzustellen, verwendet eine analoge Notation für Zeilenvektoren zu derjenigen für Spaltenvektoren, die zuvor diskutiert wurde. Wir bezeichnen mit $\\langle a \\vert$ den *Zeilenvektor* mit $1$ in dem Eintrag, der $a$ entspricht, und Null für alle anderen Einträge, für jedes $a\\in\\Sigma.$ Dieser Vektor wird gelesen als \"bra $ a$.\"\n",
        "\n",
        "Wenn zum Beispiel $\\Sigma = {0,1}$, dann\n",
        "\n",
        "$$\n",
        "  \\langle 0 \\vert = \\begin{pmatrix}\n",
        "    1 &amp; 0\n",
        "  \\end{pmatrix}\n",
        "  \\quad\\text{and}\\quad\n",
        "  \\langle 1 \\vert = \\begin{pmatrix}\n",
        "    0 &amp; 1\n",
        "  \\end{pmatrix}.\n",
        "$$\n",
        "\n",
        "Bei beliebiger Wahl einer klassischen Zustandsmenge $\\Sigma$, Betrachtung von Zeilenvektoren und Spaltenvektoren als Matrizen und Durchführung der Matrixmultiplikation $\\vert b\\rangle \\langle a\\vert$ erhält man eine quadratische Matrix mit einem $1$ in der Eintrag entspricht dem Paar $(b,a)$, was bedeutet, dass die Zeile des Eintrags $b$ und die Spalte $a$ entspricht, und $0$ für alle anderen Einträge. Zum Beispiel,\n",
        "\n",
        "$$\n",
        "  \\vert 0 \\rangle \\langle 1 \\vert = \\begin{pmatrix}\n",
        "    0 &amp; 1 \\\\\n",
        "    0 &amp; 0\n",
        "  \\end{pmatrix}.\n",
        "$$\n",
        "\n",
        "Unter Verwendung dieser Notation können wir für jede Funktion $f:\\Sigma\\rightarrow\\Sigma$ die Matrix $M$ entsprechend der Funktion $f$ ausdrücken als\n",
        "\n",
        "$$\n",
        "  M = \\sum_{a\\in\\Sigma} \\vert f(a) \\rangle \\langle a \\vert.\n",
        "$$\n",
        "\n",
        "Wenn wir uns nun wieder Vektoren als Matrizen vorstellen, diesmal aber die Multiplikation $\\langle a \\vert \\vert b \\rangle$ betrachten, dann erhalten wir eine $1\\times 1$-Matrix, die wir uns als Skalar vorstellen können ( dh eine Zahl). Aus Gründen der Übersichtlichkeit schreiben wir dieses Produkt als $\\langle a \\vert b\\rangle$ und nicht als $\\langle a \\vert \\vert b \\rangle.$ Dieses Produkt erfüllt die folgende einfache Formel:\n",
        "\n",
        "$$\n",
        "  \\langle a \\vert b \\rangle\n",
        "  = \\begin{cases}\n",
        "    1 &amp; a = b\\\\\n",
        "    0 &amp; a \\not= b.\n",
        "  \\end{cases}\n",
        "$$\n",
        "\n",
        "Unter Verwendung dieser Beobachtung zusammen mit der Tatsache, dass die Matrizenmultiplikation assoziativ und linear ist, erhalten wir\n",
        "\n",
        "$$\n",
        "  M \\vert b \\rangle =\n",
        "  \\Biggl(\n",
        "  \\sum_{a\\in\\Sigma} \\vert f(a) \\rangle \\langle a \\vert\n",
        "  \\Biggr)\n",
        "  \\vert b\\rangle\n",
        "  = \\sum_{a\\in\\Sigma} \\vert f(a) \\rangle \\langle a \\vert b \\rangle\n",
        "  = \\vert f(b)\\rangle,\n",
        "$$\n",
        "\n",
        "für jedes $b\\in\\Sigma$, was wir von $M$ verlangen.\n",
        "\n",
        "Wie wir in Lektion 3 ausführlicher besprechen werden, kann $\\langle a \\vert b \\rangle$ auch als *inneres Produkt* zwischen den Vektoren $\\vert a\\rangle$ und $\\vert b\\rangle$ angesehen werden. Innere Produkte sind in der Quanteninformation von entscheidender Bedeutung, aber wir werden eine Diskussion darüber verschieben, bis sie benötigt werden.\n",
        "\n",
        "An dieser Stelle mögen die Namen „bra“ und „ket“ offensichtlich sein: Setzt man ein „bra“ $\\langle a\\vert$ mit einem „ket“ $\\vert b\\rangle$ zusammen, erhält man eine „Klammer“ $\\langle a \\vert b\\rangle$. Diese Notation und Terminologie stammt von [Paul Dirac](gloss:dirac) und ist aus diesem Grund als *Dirac-Notation* bekannt."
      ]
    },
    {
      "cell_type": "markdown",
      "id": "be8094f7",
      "metadata": {
        "formulas": {
          "_m00": {
            "meaning": "The probability this operation transforms the input bit from 0 to 0."
          },
          "_m01": {
            "meaning": "The probability this operation transforms the input bit from 0 to 1."
          },
          "_m10": {
            "meaning": "The probability this operation transforms the input bit from 1 to 0."
          },
          "_m11": {
            "meaning": "The probability this operation transforms the input bit from 1 to 1."
          }
        },
        "gloss": {
          "altdeterministic": {
            "text": "An operation is deterministic if the result is completely determined by the input without any element of chance or uncertainty.",
            "title": "Deterministic"
          },
          "associative": {
            "text": "An operation is associative if we can move the position of the parentheses and get the same result. <br><a href=\"https://en.wikipedia.org/wiki/Associative_property\">Read more</a>",
            "title": "Associativity"
          },
          "commutative": {
            "text": "If an operation is commutative, switching the order of the inputs does not change the result.<br><a href=\"https://en.wikipedia.org/wiki/Commutative_property\">Read more</a>",
            "title": "Commutativity"
          },
          "composing": {
            "text": "Composition refers to applying one function or operation after another.<br><a href=\"https://en.wikipedia.org/wiki/Function_composition\">Read more</a>.",
            "title": "Composition"
          },
          "dirac": {
            "text": "Paul Dirac was a physicist who made key contributions to the development of quantum physics.<br><a href=\"https://en.wikipedia.org/wiki/Paul_Dirac\">Read more</a>.",
            "title": "Paul Dirac"
          },
          "identity-function": {
            "text": "The identity function returns its input unchanged.",
            "title": "Identity"
          },
          "stochastic-matrix": {
            "text": "'Stochastic' roughly means 'random'. A stochastic matrix represents a random process.",
            "title": "Stochastic"
          }
        }
      },
      "source": [
        "#### Probabilistische Operationen und stochastische Matrizen\n",
        "\n",
        "Neben deterministischen Operationen gibt es *probabilistische Operationen* .\n",
        "\n",
        "Stellen Sie sich beispielsweise eine Operation an einem Bit vor, bei der, wenn der klassische Zustand des Bits $0 ist, $ es in Ruhe gelassen wird, und wenn der klassische Zustand des Bits $1, $ ist, wird es mit einer Wahrscheinlichkeit von $1/2 auf $0$ gekippt .$ Diese Operation wird durch die Matrix dargestellt\n",
        "\n",
        "$$\n",
        "  \\begin{pmatrix}\n",
        "    1 &amp; \\frac{1}{2}\\\\[1mm]\n",
        "    0 &amp; \\frac{1}{2}\n",
        "  \\end{pmatrix}.\n",
        "$$\n",
        "\n",
        "Wir können überprüfen, ob diese Matrix das Richtige tut, indem wir sie mit den Standardbasisvektoren multiplizieren.\n",
        "\n",
        "Für eine beliebige Wahl einer klassischen Zustandsmenge können wir die Menge aller probabilistischen Operationen mathematisch als diejenigen beschreiben, die durch [stochastische](gloss:altstochastic) Matrizen dargestellt werden, die diese beiden Eigenschaften erfüllen:\n",
        "\n",
        "1. Alle Einträge sind nichtnegative reelle Zahlen.\n",
        "2. Die Einträge in jeder Spalte summieren sich auf $1.$\n",
        "\n",
        "Entsprechend sind stochastische Matrizen Matrizen, deren Spalten alle Wahrscheinlichkeitsvektoren bilden.\n",
        "\n",
        "Wir können uns Wahrscheinlichkeitsoperationen auf einer intuitiven Ebene als solche vorstellen, bei denen Zufälligkeit irgendwie verwendet oder während der Operation eingeführt werden könnte, genau wie im obigen Beispiel. In Bezug auf die stochastische Matrixbeschreibung einer probabilistischen Operation kann jede Spalte als eine Vektordarstellung des probabilistischen Zustands betrachtet werden, der erzeugt wird, wenn eine beliebige klassische Zustandseingabe dieser Spalte entspricht.\n",
        "\n",
        "Wir können uns stochastische Matrizen auch als genau solche Matrizen vorstellen, die immer Wahrscheinlichkeitsvektoren auf Wahrscheinlichkeitsvektoren abbilden. Das heißt, stochastische Matrizen bilden immer Wahrscheinlichkeitsvektoren auf Wahrscheinlichkeitsvektoren ab, und jede Matrix, die Wahrscheinlichkeitsvektoren immer auf Wahrscheinlichkeitsvektoren abbildet, muss eine stochastische Matrix sein.\n",
        "\n",
        "Schließlich ist eine andere Möglichkeit, über probabilistische Operationen nachzudenken, dass sie zufällige Auswahlen von deterministischen Operationen sind. Zum Beispiel können wir uns die Operation im obigen Beispiel als Anwendung entweder der Identitätsfunktion oder der konstanten 0-Funktion vorstellen, jeweils mit der Wahrscheinlichkeit $1/2$. Dies stimmt mit der Gleichung überein\n",
        "\n",
        "$$\n",
        "  \\begin{pmatrix}\n",
        "    1 &amp; \\frac{1}{2}\\\\[1mm]\n",
        "    0 &amp; \\frac{1}{2}\n",
        "  \\end{pmatrix}\n",
        "  = \\frac{1}{2}\n",
        "  \\begin{pmatrix}\n",
        "    1 &amp; 0\\\\[1mm]\n",
        "    0 &amp; 1\n",
        "  \\end{pmatrix}\n",
        "  + \\frac{1}{2}\n",
        "  \\begin{pmatrix}\n",
        "    1 &amp; 1\\\\[1mm]\n",
        "    0 &amp; 0\n",
        "  \\end{pmatrix}.\n",
        "$$\n",
        "\n",
        "Ein solcher Ausdruck ist immer möglich für eine willkürliche Wahl einer klassischen Zustandsmenge und einer beliebigen stochastischen Matrix mit Zeilen und Spalten, die mit dieser klassischen Zustandsmenge identifiziert sind.\n",
        "\n",
        "#### Zusammensetzungen probabilistischer Operationen\n",
        "\n",
        "Angenommen, $\\mathsf{X}$ ist ein System mit der klassischen Zustandsmenge $\\Sigma$, und $M_1,\\ldots,M_n$ sind stochastische Matrizen, die probabilistische Operationen auf dem System $\\mathsf{X}$ darstellen.\n",
        "\n",
        "Wenn die erste Operation $M_1$ auf den durch einen Wahrscheinlichkeitsvektor $u$ repräsentierten probabilistischen Zustand angewendet wird, wird der resultierende probabilistische Zustand durch den Vektor $M_1 u repräsentiert.$ Wenden wir dann die zweite probabilistische Operation $M_2$ auf diesen neuen an Wahrscheinlichkeitsvektor erhalten wir den Wahrscheinlichkeitsvektor\n",
        "\n",
        "$$\n",
        "  M_2 (M_1 u) = (M_2 M_1) u.\n",
        "$$\n",
        "\n",
        "Die Gleichheit folgt aus der Tatsache, dass die Matrixmultiplikation (die als Sonderfall die Matrix-Vektor-Multiplikation umfasst) eine [assoziative](gloss:associative) Operation ist. Somit wird die probabilistische Operation, die durch [Zusammensetzen](gloss:composing) der ersten und zweiten probabilistischen Operation erhalten wird, wobei wir zuerst $M_1$ und dann $M_2$ anwenden, durch die Matrix $M_2 M_1$ dargestellt, die notwendigerweise stochastisch ist.\n",
        "\n",
        "Allgemeiner gesagt, das Zusammenstellen der probabilistischen Operationen, die durch die Matrizen $M_1,\\ldots,M_n$ dargestellt werden, in dieser Reihenfolge, was bedeutet, dass $M_1$ zuerst angewendet wird, $M_2$ als zweites angewendet wird und so weiter, wobei $M_n$ zuletzt angewendet wird, wird durch die Matrix dargestellt\n",
        "\n",
        "$$\n",
        "  M_n \\,\\cdots\\, M_1.\n",
        "$$\n",
        "\n",
        "Beachten Sie, dass die Reihenfolge hier wichtig ist: Obwohl die Matrixmultiplikation assoziativ ist, ist sie im Allgemeinen keine [kommutative](gloss:commutative) Operation.\n",
        "\n",
        "Zum Beispiel, wenn wir haben\n",
        "\n",
        "$$\n",
        "  M_1 =\n",
        "  \\begin{pmatrix}\n",
        "    1 &amp; 1\\\\[1mm]\n",
        "    0 &amp; 0\n",
        "  \\end{pmatrix}\n",
        "  \\quad\\text{and}\\quad\n",
        "  M_2 =\n",
        "  \\begin{pmatrix}\n",
        "    0 &amp; 1\\\\[1mm]\n",
        "    1 &amp; 0\n",
        "  \\end{pmatrix},\n",
        "$$\n",
        "\n",
        "dann\n",
        "\n",
        "$$\n",
        "  M_2 M_1 =\n",
        "  \\begin{pmatrix}\n",
        "    0 &amp; 0 \\\\[1mm]\n",
        "    1 &amp; 1\n",
        "  \\end{pmatrix}\n",
        "  \\quad\\text{and}\\quad\n",
        "  M_1 M_2 =\n",
        "  \\begin{pmatrix}\n",
        "    1 &amp; 1\\\\[1mm]\n",
        "    0 &amp; 0\n",
        "  \\end{pmatrix}.\n",
        "$$\n",
        "\n",
        "Das heißt, die Reihenfolge, in der probabilistische Operationen zusammengesetzt werden, ist wichtig: Eine Änderung der Reihenfolge, in der Operationen in einer Komposition angewendet werden, kann die resultierende Operation ändern."
      ]
    },
    {
      "cell_type": "markdown",
      "id": "a6cd0323",
      "metadata": {
      },
      "source": [
        "## 2. Quanteninformation<a id=\"single-systems-quantum\"></a>\n",
        "\n",
        "![Illustration eines Kartenspiels.](images/quantum-information-hero.png)\n",
        "\n",
        "Nun gehen wir zur Quanteninformation über, wo wir eine andere Wahl für den Vektortyp treffen, der einen Zustand – in diesem Fall einen *Quantenzustand* – des betrachteten Systems darstellt. Wie im vorherigen Abschnitt werden wir uns mit Systemen befassen, die endliche und nicht leere Mengen klassischer Zustände haben, und wir werden einen Großteil der Notation verwenden, die in diesem Abschnitt eingeführt wurde."
      ]
    },
    {
      "cell_type": "markdown",
      "id": "897e71c0",
      "metadata": {
      },
      "source": [
        "### 2.1 Quantenzustandsvektoren<a id=\"single-systems-quantum-states\"></a>\n",
        "\n",
        "Ein *Quantenzustand* eines Systems wird ähnlich wie probabilistische Zustände durch einen Spaltenvektor dargestellt. Wie zuvor kennzeichnen die Indizes des Vektors die klassischen Zustände des Systems. Vektoren, die Quantenzustände darstellen, sind durch diese beiden Eigenschaften gekennzeichnet:\n",
        "\n",
        "1. Die Einträge eines Quantenzustandsvektors sind *komplexe Zahlen* .\n",
        "2. Die Summe der *Absolutwerte zum Quadrat* der Einträge eines Quantenzustandsvektors muss gleich $1.$ sein\n",
        "\n",
        "Im Gegensatz zum probabilistischen Fall müssen Vektoren, die Quantenzustände darstellen, keine nichtnegativen reellen Zahleneinträge haben, und es ist die Summe der Absolutwerte im Quadrat der Einträge (im Gegensatz zur Summe der Einträge), die gleich $ 1, $ sein muss So einfach diese Veränderungen sind, sie führen zu all den Unterschieden zwischen Quanten- und klassischer Information. Jede Beschleunigung durch einen Quantencomputer oder jede Verbesserung eines Kommunikationsprotokolls ergibt sich letztendlich aus diesen einfachen mathematischen Änderungen.\n",
        "\n",
        "Die *euklidische Norm* eines Spaltenvektors\n",
        "\n",
        "$$\n",
        "  v = \\begin{pmatrix}\n",
        "    \\alpha_1\\\\\n",
        "    \\vdots\\\\\n",
        "    \\alpha_n\n",
        "  \\end{pmatrix}\n",
        "$$\n",
        "\n",
        "wird wie folgt bezeichnet und definiert:\n",
        "\n",
        "$$\n",
        "  \\| v \\| = \\sqrt{\\sum_{k=1}^n |\\alpha_k|^2}.\n",
        "$$\n",
        "\n",
        "Die Bedingung, dass die Summe der quadrierten Absolutwerte eines Quantenzustandsvektors gleich $1$ ist, ist daher äquivalent zu diesem Vektor mit einer euklidischen Norm gleich $1. Das heißt, Quantenzustandsvektoren sind *Einheitsvektoren* in Bezug auf die euklidische Norm.\n",
        "\n",
        "#### Beispiele für Qubit-Zustände\n",
        "\n",
        "Der Begriff *Qubit* bezeichnet ein Quantensystem, dessen klassische Zustandsmenge ${0,1}$ ist. Das heißt, ein Qubit ist wirklich nur ein Bit – aber durch die Verwendung dieses Namens erkennen wir ausdrücklich an, dass dieses Bit in einem Quantenzustand sein kann.\n",
        "\n",
        "Dies sind Beispiele für Quantenzustände eines Qubits:\n",
        "\n",
        "$$\n",
        "  \\begin{pmatrix}\n",
        "    1\\\\[2mm]\n",
        "    0\n",
        "  \\end{pmatrix}\n",
        "  = \\vert 0\\rangle\n",
        "  \\quad\\text{and}\\quad\n",
        "  \\begin{pmatrix}\n",
        "    0\\\\[2mm]\n",
        "    1\n",
        "  \\end{pmatrix}\n",
        "  = \\vert 1\\rangle,\n",
        "$$\n",
        "\n",
        "$$ \\begin{pmatrix} \\frac{1}{\\sqrt{2}}\\[2mm] \\frac{1}{\\sqrt{2}} \\end{pmatrix} = \\frac{1}{\\sqrt{2}}\\,\\vert 0\\rangle + \\frac{1}{\\sqrt{2}}\\,\\vert 1\\rangle, \\tag{1} $$ und $$ \\begin{pmatrix} \\frac{1+2i}{3}\\[2mm] -\\frac{2}{3} \\end{pmatrix} = \\frac{1+2i}{3}\\,\\vert 0\\rangle - \\frac{2}{3}\\,\\vert 1\\rangle. $$\n",
        "\n",
        "Die ersten beiden Beispiele, $\\vert 0\\rangle$ und $\\vert 1\\rangle$, veranschaulichen, dass Standardbasiselemente gültige Quantenzustandsvektoren sind: Ihre Einträge sind komplexe Zahlen (wobei der Imaginärteil dieser Zahlen zufällig $0$ ist ) und Berechnen der Summe der Absolutwerte zum Quadrat der Einträge ergibt\n",
        "\n",
        "$$\n",
        "  \\vert 1\\vert^2 + \\vert 0\\vert^2 = 1\n",
        "  \\quad\\text{and}\\quad\n",
        "  \\vert 0\\vert^2 + \\vert 1\\vert^2 = 1,\n",
        "$$\n",
        "\n",
        "nach Bedarf. Ähnlich wie bei der klassischen Einstellung assoziieren wir die Quantenzustandsvektoren $\\vert 0\\rangle$ und $\\vert 1\\rangle$ mit Sicherheit mit einem Qubit, das sich im klassischen Zustand $0$ bzw. $1$ befindet.\n",
        "\n",
        "Für die anderen beiden Beispiele haben wir wieder komplexe Zahleneinträge, und die Berechnung der Summe des Absolutwerts im Quadrat der Einträge ergibt\n",
        "\n",
        "$$\n",
        "  \\biggl\\vert\\frac{1}{\\sqrt{2}}\\biggr\\vert^2 +\n",
        "  \\biggl\\vert\\frac{1}{\\sqrt{2}}\\biggr\\vert^2 = \\frac{1}{2} + \\frac{1}{2} = 1\n",
        "$$\n",
        "\n",
        "und\n",
        "\n",
        "$$\n",
        "  \\biggl\\vert \\frac{1+2i}{3} \\biggr\\vert^2 +\n",
        "  \\biggl\\vert -\\frac{2}{3} \\biggr\\vert^2 = \\frac{5}{9} + \\frac{4}{9} = 1.\n",
        "$$\n",
        "\n",
        "Es handelt sich also um gültige Quantenzustandsvektoren. Beachten Sie, dass es sich um lineare Kombinationen der Zustände $\\vert 0 \\rangle$ und $\\vert 1 \\rangle$ handelt. Wir sagen oft, dass diese Zustände *Überlagerungen* der $0$- und $1$-Zustände sind. Im Zusammenhang mit Quantenzuständen sind \"Superposition\" und \"Linearkombination\" im Wesentlichen synonym.\n",
        "\n",
        "Das obige Beispiel $(1)$ eines Qubit-Zustandsvektors ist sehr häufig anzutreffen – es wird als *Plus-Zustand* bezeichnet und wie folgt bezeichnet:\n",
        "\n",
        "$$\n",
        "  \\vert + \\rangle = \\frac{1}{\\sqrt{2}} \\vert 0\\rangle + \\frac{1}{\\sqrt{2}} \\vert 1\\rangle.\n",
        "$$\n",
        "\n",
        "Wir verwenden auch die Notation\n",
        "\n",
        "$$\n",
        "  \\vert - \\rangle = \\frac{1}{\\sqrt{2}} \\vert 0\\rangle - \\frac{1}{\\sqrt{2}} \\vert 1\\rangle\n",
        "$$\n",
        "\n",
        "um auf einen verwandten Quantenzustandsvektor zu verweisen, bei dem der zweite Eintrag eher negativ als positiv ist, und wir nennen diesen Zustand den *Minuszustand* . Diese Art der Notation, bei der ein anderes Symbol als eines, das sich auf einen klassischen Zustand bezieht, innerhalb eines Ket erscheint, ist üblich – wir können einen beliebigen Namen innerhalb eines Ket verwenden, um einen Vektor zu benennen.\n",
        "\n",
        "Tatsächlich ist es durchaus üblich, anstelle von $\\psi$ eine Notation wie $\\vert\\psi\\rangle$ oder andere Namen zu verwenden, um auf beliebige Vektoren zu verweisen, die nicht unbedingt ein Standardbasisvektor sein müssen: $\\psi $ ist einfach ein Name für den Vektor, aber es wird in ein Ket eingefügt, was betont, dass es sich um einen Vektor handelt.\n",
        "\n",
        "Beachten Sie, dass, wenn wir einen Vektor $\\vert \\psi \\rangle$ haben, dessen Indizes einer klassischen Zustandsmenge $\\Sigma$ entsprechen, und wenn $a\\in\\Sigma$ ein Element dieser klassischen Zustandsmenge ist, die (Matrix ) Produkt $\\langle a\\vert \\vert \\psi\\rangle$ ist gleich dem Eintrag des Vektors $\\vert \\psi \\rangle$ dessen Index $a$ entspricht. So wie wir es getan haben, als $\\vert \\psi \\rangle$ ein Standardbasisvektor ist, schreiben wir $\\langle a \\vert \\psi \\rangle$ statt $\\langle a\\vert \\vert \\psi\\rangle$ aus Gründen der Lesbarkeit.\n",
        "\n",
        "Wenn zum Beispiel $\\Sigma = {0,1}$ und\n",
        "\n",
        "$$\n",
        "\\vert \\psi \\rangle =\n",
        "\\frac{1+2i}{3} \\vert 0\\rangle - \\frac{2}{3} \\vert 1\\rangle\n",
        "= \\begin{pmatrix}\n",
        "    \\frac{1+2i}{3}\\\\[2mm]\n",
        "    -\\frac{2}{3}\n",
        "  \\end{pmatrix},\n",
        "  \\tag{2}\n",
        "$$\n",
        "\n",
        "dann\n",
        "\n",
        "$$\n",
        "  \\langle 0 \\vert \\psi \\rangle = \\frac{1+2i}{3}\n",
        "  \\quad\\text{and}\\quad\n",
        "  \\langle 1 \\vert \\psi \\rangle = -\\frac{2}{3}.\n",
        "$$\n",
        "\n",
        "Bei der Verwendung dieser Notation muss verstanden werden, dass sich $\\langle \\psi \\vert$ auf den Zeilenvektor bezieht, der durch Nehmen der *konjugierten Transponierung* des Spaltenvektors $\\vert\\psi\\rangle$ erhalten wird, wobei (zusätzlich zur Transposition des Vektors von einem Spaltenvektor zu einem Zeilenvektor) wird jeder Eintrag durch seine komplexe Konjugierte ersetzt.\n",
        "\n",
        "Wenn beispielsweise $\\vert\\psi\\rangle$ der in $(2)$ definierte Vektor ist, dann\n",
        "\n",
        "$$\n",
        "\\langle\\psi\\vert = \\frac{1-2i}{3} \\langle 0\\vert - \\frac{2}{3} \\langle 1\\vert\n",
        "= \\begin{pmatrix}\n",
        "    \\frac{1-2i}{3} &amp;\n",
        "    -\\frac{2}{3}\n",
        "  \\end{pmatrix}.\n",
        "$$\n",
        "\n",
        "Der Grund, warum wir zusätzlich zur Transponierten das komplex Konjugierte nehmen, wird in Lektion 3 klarer, wenn wir das *Skalarprodukt* besprechen."
      ]
    },
    {
      "cell_type": "markdown",
      "id": "a32a6551",
      "metadata": {
      },
      "source": [
        "#### Quantenzustände anderer Systeme\n",
        "\n",
        "Wir können Quantenzustände von Systemen mit beliebigen klassischen Zustandsmengen betrachten.\n",
        "\n",
        "Hier ist zum Beispiel ein Quantenzustandsvektor für einen elektrischen Lüfterschalter:\n",
        "\n",
        "$$\n",
        "  \\begin{pmatrix}\n",
        "    \\frac{1}{2}\\\\[1mm]\n",
        "    0 \\\\[1mm]\n",
        "    -\\frac{i}{2}\\\\[1mm]\n",
        "    \\frac{1}{\\sqrt{2}}\n",
        "  \\end{pmatrix}\n",
        "  =\n",
        "  \\frac{1}{2} \\vert\\mathrm{high}\\rangle\n",
        "  - \\frac{i}{2} \\vert\\mathrm{low}\\rangle\n",
        "  + \\frac{1}{\\sqrt{2}} \\vert\\mathrm{off}\\rangle.\n",
        "$$\n",
        "\n",
        "Die Annahme hier ist, dass die klassischen Zustände als *hoch* , *mittel* , *niedrig* , *aus* geordnet sind. Es mag keinen besonderen Grund geben, warum man einen Quantenzustand eines elektrischen Lüfterschalters betrachten möchte, aber es ist im Prinzip möglich.\n",
        "\n",
        "Hier ist ein weiteres Beispiel, diesmal einer Quantendezimalziffer, deren klassische Zustände $0, 1, \\ldots, 9$ sind:\n",
        "\n",
        "$$\n",
        "  \\frac{1}{\\sqrt{385}}\n",
        "  \\begin{pmatrix}\n",
        "    1\\\\\n",
        "    2\\\\\n",
        "    3\\\\\n",
        "    4\\\\\n",
        "    5\\\\\n",
        "    6\\\\\n",
        "    7\\\\\n",
        "    8\\\\\n",
        "    9\\\\\n",
        "    10\n",
        "  \\end{pmatrix}\n",
        "  =\n",
        "  \\frac{1}{\\sqrt{385}}\\sum_{k = 0}^9 (k+1) \\vert k \\rangle.\n",
        "$$\n",
        "\n",
        "Dieses Beispiel veranschaulicht die Bequemlichkeit des Schreibens von Zustandsvektoren unter Verwendung der Dirac-Notation. Für dieses spezielle Beispiel ist die Spaltenvektordarstellung nur umständlich – aber wenn es wesentlich mehr klassische Zustände gäbe, wäre sie unbrauchbar. Die Dirac-Notation hingegen unterstützt präzise Beschreibungen großer und komplizierter Vektoren in kompakter Form.\n",
        "\n",
        "Die Dirac-Notation ermöglicht auch die Expression von Vektoren, bei denen verschiedene Aspekte der Vektoren *unbestimmt* sind (d. h. unbekannt oder noch nicht etabliert). Beispielsweise können wir für eine beliebige klassische Zustandsmenge $\\Sigma$ den Quantenzustandsvektor betrachten\n",
        "\n",
        "$$\n",
        "  \\frac{1}{\\sqrt{|\\Sigma|}} \\sum_{a\\in\\Sigma} \\vert a \\rangle,\n",
        "$$\n",
        "\n",
        "was eine einheitliche Überlagerung der klassischen Zustände in $\\Sigma$ ist. (Hier bezieht sich die Notation $\\vert\\Sigma\\vert$ auf die Anzahl der Elemente in $\\Sigma$.)\n",
        "\n",
        "Wir werden in späteren Lektionen auf viel kompliziertere Ausdrücke von Quantenzustandsvektoren stoßen, wo die Verwendung von Spaltenvektoren unpraktisch oder unmöglich wäre. Tatsächlich verzichten wir größtenteils auf die Spaltenvektordarstellung von Zustandsvektoren, außer bei Vektoren mit einer kleinen Anzahl von Einträgen (oft im Zusammenhang mit Beispielen), bei denen es hilfreich sein kann, die Einträge explizit anzuzeigen und zu untersuchen.\n",
        "\n",
        "Es gibt noch einen weiteren Grund, warum das Ausdrücken von Zustandsvektoren unter Verwendung der Dirac-Notation im Allgemeinen bequemer ist: Es verringert die Notwendigkeit, eine Reihenfolge der klassischen Zustände explizit anzugeben (oder äquivalent dazu die Entsprechung zwischen klassischen Zuständen und Vektorindizes). Zum Beispiel ein Quantenzustandsvektor für ein System mit klassischem Zustandssatz ${\\clubsuit,\\diamondsuit,\\heartsuit,\\spadesuit}$, wie z\n",
        "\n",
        "$$\n",
        "    \\frac{1}{2} \\vert\\clubsuit\\rangle\n",
        "  + \\frac{i}{2} \\vert\\diamondsuit\\rangle\n",
        "  - \\frac{1}{2} \\vert\\heartsuit\\rangle\n",
        "  - \\frac{i}{2} \\vert\\spadesuit\\rangle,\n",
        "$$\n",
        "\n",
        "wird durch diesen Ausdruck eindeutig beschrieben, und es besteht wirklich keine Notwendigkeit, eine Ordnung dieser klassischen Zustandsmenge zu wählen oder anzugeben, um dem Ausdruck einen Sinn zu geben. In diesem Fall ist es nicht schwierig, einfach eine Reihenfolge der Standardkartenfarben anzugeben – zum Beispiel könnten wir sie wie folgt ordnen: $\\clubsuit$, $\\diamondsuit$, $\\heartsuit$, $\\spadesuit$. Wenn wir diese bestimmte Reihenfolge wählen, wird der obige Quantenzustandsvektor durch den Spaltenvektor dargestellt\n",
        "\n",
        "$$\n",
        "\\begin{pmatrix}\n",
        " \\frac{1}{2}\\\\[2mm]\n",
        " \\frac{i}{2}\\\\[2mm]\n",
        " -\\frac{1}{2}\\\\[2mm]\n",
        " -\\frac{i}{2}\n",
        "\\end{pmatrix}.\n",
        "$$\n",
        "\n",
        "Im Allgemeinen ist es jedoch bequem, die Frage, wie klassische Zustandsmengen geordnet sind, einfach zu ignorieren und die Ansicht zu vertreten, dass Quantenzustandsvektoren direkt durch klassische Zustände indiziert sind."
      ]
    },
    {
      "cell_type": "markdown",
      "id": "b44fece2",
      "metadata": {
      },
      "source": [
        "### 2.2 Messung von Quantenzuständen<a id=\"single-systems-quantum-measure\"></a>\n",
        "\n",
        "Betrachten wir als Nächstes, was passiert, wenn ein Quantenzustand *gemessen* wird, wobei wir uns auf eine einfache Art der Messung konzentrieren, die als *Standardbasismessung* bekannt ist. (Es gibt allgemeinere Messbegriffe, die später besprochen werden.)\n",
        "\n",
        "Ähnlich wie bei der probabilistischen Einstellung sieht der Beobachter, wenn ein System in einem Quantenzustand gemessen wird, keinen Quantenzustandsvektor, sondern einen klassischen Zustand. In diesem Sinne fungieren Messungen als Schnittstelle zwischen Quanten- und klassischer Information, durch die klassische Information aus Quantenzuständen extrahiert wird.\n",
        "\n",
        "Die Regel ist einfach: Wenn ein Quantenzustand gemessen wird, ergibt sich jeder klassische Zustand des Systems mit einer Wahrscheinlichkeit, die gleich dem *absoluten Wert im Quadrat* des Eintrags im Quantenzustandsvektor ist, der diesem klassischen Zustand entspricht. In der Quantenmechanik ist dies als *Born-Regel* bekannt. Beachten Sie, dass diese Regel mit der Anforderung vereinbar ist, dass sich die Absolutwerte der Einträge in einem Quantenzustandsvektor im Quadrat zu 1 summieren, da dies impliziert, dass sich die Wahrscheinlichkeiten verschiedener Messergebnisse des klassischen Zustands auf 1,$ summieren\n",
        "\n",
        "Zum Beispiel das Messen des Plus-Zustands\n",
        "\n",
        "$$\n",
        "  \\vert + \\rangle =\n",
        "  \\frac{1}{\\sqrt{2}} \\vert 0 \\rangle\n",
        "  + \\frac{1}{\\sqrt{2}} \\vert 1 \\rangle\n",
        "$$\n",
        "\n",
        "ergibt die beiden möglichen Ergebnisse $0$ und $1,$ mit den folgenden Wahrscheinlichkeiten.\n",
        "\n",
        "$$\n",
        "  \\operatorname{Pr}(\\text{outcome is 0})\n",
        "  = \\bigl\\vert \\langle 0 \\vert + \\rangle \\bigr\\vert^2\n",
        "  = \\biggl\\vert \\frac{1}{\\sqrt{2}} \\biggr\\vert^2\n",
        "  = \\frac{1}{2}\n",
        "$$\n",
        "\n",
        "$$\n",
        "  \\operatorname{Pr}(\\text{outcome is 1})\n",
        "  = \\bigl\\vert \\langle 1 \\vert + \\rangle \\bigr\\vert^2\n",
        "  = \\biggl\\vert \\frac{1}{\\sqrt{2}} \\biggr\\vert^2\n",
        "  = \\frac{1}{2}\n",
        "$$\n",
        "\n",
        "Interessanterweise misst man den Minuszustand\n",
        "\n",
        "$$\n",
        "  \\vert - \\rangle =\n",
        "  \\frac{1}{\\sqrt{2}} \\vert 0 \\rangle\n",
        "  - \\frac{1}{\\sqrt{2}} \\vert 1 \\rangle\n",
        "$$\n",
        "\n",
        "ergibt genau die gleichen Wahrscheinlichkeiten für die beiden Ergebnisse.\n",
        "\n",
        "$$\n",
        "  \\operatorname{Pr}(\\text{outcome is 0})\n",
        "  = \\bigl\\vert \\langle 0 \\vert - \\rangle \\bigr\\vert^2\n",
        "  = \\biggl\\vert \\frac{1}{\\sqrt{2}} \\biggr\\vert^2\n",
        "  = \\frac{1}{2}\n",
        "$$\n",
        "\n",
        "$$\n",
        "  \\operatorname{Pr}(\\text{outcome is 1})\n",
        "  = \\bigl\\vert \\langle 1 \\vert - \\rangle \\bigr\\vert^2\n",
        "  = \\biggl\\vert -\\frac{1}{\\sqrt{2}} \\biggr\\vert^2\n",
        "  = \\frac{1}{2}\n",
        "$$\n",
        "\n",
        "Dies deutet darauf hin, dass bei Standardbasismessungen die Plus- und Minuszustände genau gleich sind. Warum sollten wir uns dann um eine Unterscheidung kümmern? Mit dieser Frage beginnen wir im folgenden Abschnitt 2.3.\n",
        "\n",
        "Als letztes Beispiel die Zustandsmessung\n",
        "\n",
        "$$\n",
        "  \\vert \\psi \\rangle = \\frac{1+2i}{3} \\vert 0\\rangle - \\frac{2}{3} \\vert 1\\rangle\n",
        "$$\n",
        "\n",
        "hat Wahrscheinlichkeiten gegeben durch\n",
        "\n",
        "$$\n",
        "  \\operatorname{Pr}(\\text{outcome is 0})\n",
        "  = \\bigl\\vert \\langle 0 \\vert \\psi \\rangle \\bigr\\vert^2\n",
        "  = \\biggl\\vert \\frac{1+2i}{3} \\biggr\\vert^2\n",
        "  = \\frac{5}{9},\n",
        "$$\n",
        "\n",
        "und\n",
        "\n",
        "$$\n",
        "  \\operatorname{Pr}(\\text{outcome is 1})\n",
        "  = \\bigl\\vert \\langle 1 \\vert \\psi \\rangle \\bigr\\vert^2\n",
        "  = \\biggl\\vert -\\frac{2}{3} \\biggr\\vert^2\n",
        "  = \\frac{4}{9}.\n",
        "$$\n",
        "\n",
        "Natürlich führt die Messung des Quantenzustands $\\vert 0\\rangle$ mit Sicherheit zum klassischen Zustand $0$, und ebenso führt die Messung des Quantenzustands $\\vert 1\\rangle$ mit Sicherheit zum klassischen Zustand $1$. Dies steht im Einklang mit der Identifizierung dieser Quantenzustände mit dem System *,* das sich im entsprechenden klassischen Zustand befindet, wie zuvor vorgeschlagen wurde."
      ]
    },
    {
      "cell_type": "markdown",
      "id": "dbbdd27b",
      "metadata": {
        "formulas": {
          "conjugate-transpose": {
            "meaning": "This symbol represents the conjugate transpose.<br><a href=\"https://en.wikipedia.org/wiki/Conjugate_transpose\">Read more</a>.",
            "say": "\"Dagger\""
          },
          "identity-matrix": {
            "meaning": "This is the *identity matrix*, which represents the operation that has no effect (i.e., the identity operation)."
          }
        }
      },
      "source": [
        "### 2.3 Einheitliche Operationen<a id=\"single-systems-unitary\"></a>\n",
        "\n",
        "Bisher ist möglicherweise nicht ersichtlich, warum sich Quanteninformation grundlegend von klassischer Information unterscheidet. Das heißt, wenn ein Quantenzustand gemessen wird, ist die Wahrscheinlichkeit, jeden klassischen Zustand zu erhalten, durch den absoluten Wert zum Quadrat des entsprechenden Vektoreintrags gegeben – warum also nicht einfach diese Wahrscheinlichkeiten in einem Wahrscheinlichkeitsvektor aufzeichnen?\n",
        "\n",
        "Die Antwort lautet zumindest teilweise, dass der Satz zulässiger *Operationen* , die an einem Quantenzustand durchgeführt werden können, anders ist als für klassische Informationen. Ähnlich wie bei der probabilistischen Einstellung sind Operationen an Quantenzuständen lineare Abbildungen – aber anstatt wie im klassischen Fall durch stochastische Matrizen dargestellt zu werden, werden Operationen an Quantenzustandsvektoren durch *einheitliche* Matrizen dargestellt.\n",
        "\n",
        "Eine quadratische Matrix $U$ mit komplexen Zahleneinträgen ist unitär, wenn sie die Gleichungen erfüllt\n",
        "\n",
        "$$\n",
        "  \\begin{aligned}\n",
        "    U U^{\\dagger} &amp;= \\class{identity-matrix}{\\mathbb{1}} \\\\\n",
        "    U^{\\class{conjugate-transpose}{\\dagger}} U &amp;= \\class{identity-matrix}{\\mathbb{1}}.\n",
        "  \\end{aligned}\n",
        "$$\n",
        "\n",
        "Hier ist $\\mathbb{1}$ die Identitätsmatrix und $U^{\\dagger}$ die *konjugierte Transponierte* von $U$, d. h. die Matrix, die durch Transponieren von $U$ und Bilden der komplexen Konjugierten jedes Eintrags erhalten wird. $$ U^{\\dagger} = \\overline{U^T} $$ Wenn eine der Gleichungen in der obigen Gleichung wahr ist, dann muss auch die andere wahr sein; beide Gleichheiten sind äquivalent dazu, dass $U^{\\dagger}$ die Umkehrung von $U$ ist:\n",
        "\n",
        "$$\n",
        "  U^{-1} = U^{\\dagger}.\n",
        "$$\n",
        "\n",
        "(Achtung: wenn $M$ keine quadratische Matrix ist, dann könnte $M^{\\dagger} M = \\mathbb{1}$ und $MM^{\\dagger} \\not= \\mathbb{1}$ sein , zum Beispiel. Die Äquivalenz der beiden Gleichheiten in der ersten obigen Gleichung gilt nur für quadratische Matrizen.)\n",
        "\n",
        "Die Bedingung, dass $U$ einheitlich ist, entspricht der Bedingung, dass die Multiplikation mit $U$ die euklidische Norm eines Vektors nicht ändert. Das heißt, eine $n\\times n$-Matrix $U$ ist genau dann unitär, wenn $\\| U \\vert \\psi \\rangle \\| = \\|\\vert \\psi \\rangle \\|$ für jeden $n$-dimensionalen Spaltenvektor $\\vert \\psi \\rangle$ mit komplexen Zahleneinträgen. Da der Satz aller Quantenzustandsvektoren derselbe ist wie der Satz von Vektoren mit einer euklidischen Norm gleich $1, führt $ das Multiplizieren einer Einheitsmatrix mit einem Quantenzustandsvektor zu einem anderen Quantenzustandsvektor.\n",
        "\n",
        "Tatsächlich sind Einheitsmatrizen genau der Satz von linearen Abbildungen, die Quantenzustandsvektoren in andere Quantenzustandsvektoren transformieren. Beachten Sie hier eine Ähnlichkeit mit dem klassischen probabilistischen Fall, in dem Operationen mit stochastischen Matrizen verknüpft sind, die immer Wahrscheinlichkeitsvektoren in Wahrscheinlichkeitsvektoren umwandeln.\n",
        "\n",
        "<!-- ::: q-block.exercise -->\n",
        "\n",
        "### Schnelles Quiz\n",
        "\n",
        "<!-- ::: q-quiz(goal=\"ss-quiz-0\") -->\n",
        "\n",
        "<!-- ::: .question -->\n",
        "\n",
        "Welche dieser Matrizen ist unitär?\n",
        "\n",
        "<!-- ::: -->\n",
        "\n",
        "<!-- ::: .option -->\n",
        "\n",
        "1. $\\begin{pmatrix} 1 &amp; 0 \\\\ 1 &amp; 0 \\end{pmatrix}$\n",
        "\n",
        "<!-- ::: -->\n",
        "\n",
        "<!-- ::: .option -->\n",
        "\n",
        "1. $\\begin{pmatrix} 0 &amp; \\frac{1}{2} \\\\ \\frac{-i}{2} &amp; 0 \\end{pmatrix}$\n",
        "\n",
        "<!-- ::: -->\n",
        "\n",
        "<!-- ::: .option(correct) -->\n",
        "\n",
        "1. $\\begin{pmatrix} 1 &amp; 0 \\\\ 0 &amp; ich \\end{pmatrix}$\n",
        "\n",
        "<!-- ::: -->\n",
        "\n",
        "<!-- ::: -->\n",
        "\n",
        "<!-- ::: -->"
      ]
    },
    {
      "cell_type": "markdown",
      "id": "50da89b7",
      "metadata": {
      },
      "source": [
        "#### Wichtige Beispiele für einheitliche Operationen auf Qubits\n",
        "\n",
        "Die folgende Liste beschreibt einige wichtige unitäre Operationen auf Qubits.\n",
        "\n",
        "1. *Pauli-Operationen.* Die vier Pauli-Matrizen lauten wie folgt:\n",
        "\n",
        "    $$\n",
        "         \\mathbb{1} =\n",
        "         \\begin{pmatrix}\n",
        "           1 &amp; 0\\\\\n",
        "           0 &amp; 1\n",
        "         \\end{pmatrix},\n",
        "         \\quad\n",
        "         \\sigma_x =\n",
        "         \\begin{pmatrix}\n",
        "           0 &amp; 1\\\\\n",
        "           1 &amp; 0\n",
        "         \\end{pmatrix},\n",
        "         \\quad\n",
        "         \\sigma_y =\n",
        "         \\begin{pmatrix}\n",
        "           0 &amp; -i\\\\\n",
        "           i &amp; 0\n",
        "         \\end{pmatrix},\n",
        "         \\quad\n",
        "         \\sigma_z =\n",
        "         \\begin{pmatrix}\n",
        "           1 &amp; 0\\\\\n",
        "           0 &amp; -1\n",
        "         \\end{pmatrix}.\n",
        "       $$\n",
        "\n",
        "    Eine gebräuchliche Schreibweise, die wir oft verwenden werden, ist $X = \\sigma_x$, $Y = \\sigma_y$ und $Z = \\sigma_z$ – aber beachten Sie, dass die Buchstaben $X$, $Y$ und $Z $ werden auch häufig für andere Zwecke verwendet. Die Operation $\\sigma_x$ (oder $X$) wird auch *Bit-Flip* oder *NOT-Operation* genannt, weil sie diese Aktion auf Bits auslöst:\n",
        "\n",
        "    $$\n",
        "         \\sigma_x \\vert 0\\rangle = \\vert 1\\rangle\n",
        "         \\quad \\text{and} \\quad\n",
        "         \\sigma_x \\vert 1\\rangle = \\vert 0\\rangle.\n",
        "       $$\n",
        "\n",
        "    Die Operation $\\sigma_z$ (oder $Z$) wird auch *Phasenumkehr* genannt, weil sie diese Aktion hat:\n",
        "\n",
        "    $$\n",
        "         \\sigma_z \\vert 0\\rangle = \\vert 0\\rangle\n",
        "         \\quad \\text{and} \\quad\n",
        "         \\sigma_z \\vert 1\\rangle = - \\vert 1\\rangle.\n",
        "       $$\n",
        "\n",
        "2. *Hadamard-Operation* . Die Hadamard-Operation wird durch diese Matrix beschrieben:\n",
        "\n",
        "    $$\n",
        "         H = \\begin{pmatrix}\n",
        "           \\frac{1}{\\sqrt{2}} &amp; \\frac{1}{\\sqrt{2}} \\\\[2mm]\n",
        "           \\frac{1}{\\sqrt{2}} &amp; -\\frac{1}{\\sqrt{2}}\n",
        "         \\end{pmatrix}.\n",
        "       $$\n",
        "\n",
        "3. *Phasenoperationen.* Eine Phasenoperation wird durch die Matrix beschrieben\n",
        "\n",
        "    $$\n",
        "         P_{\\theta} =\n",
        "         \\begin{pmatrix}\n",
        "           1 &amp; 0\\\\\n",
        "           0 &amp; e^{i\\theta}\n",
        "         \\end{pmatrix}\n",
        "       $$\n",
        "\n",
        "    für jede Wahl einer reellen Zahl $\\theta$. Die Operationen\n",
        "\n",
        "    $$\n",
        "         S = P_{\\pi/2} =\n",
        "         \\begin{pmatrix}\n",
        "           1 &amp; 0\\\\\n",
        "           0 &amp; i\n",
        "         \\end{pmatrix}\n",
        "         \\quad\\text{and}\\quad\n",
        "         T\n",
        "         = P_{\\pi/4}\n",
        "         =\n",
        "         \\begin{pmatrix}\n",
        "           1 &amp; 0\\\\\n",
        "           0 &amp; \\frac{1 + i}{\\sqrt{2}}\n",
        "         \\end{pmatrix}\n",
        "       $$\n",
        "\n",
        "    sind besonders wichtige Beispiele. Andere Beispiele sind $\\mathbb{1} = P_0$ und $\\sigma_z = P_{\\pi}$.\n",
        "\n",
        "Alle gerade definierten Matrizen sind einheitlich und stellen daher Quantenoperationen auf einem einzelnen Qubit dar.\n",
        "\n",
        "Hier ist zum Beispiel eine Berechnung, die bestätigt, dass $H$ unitär ist:\n",
        "\n",
        "$$\n",
        "  \\begin{aligned}\n",
        "  \\begin{pmatrix}\n",
        "    \\frac{1}{\\sqrt{2}} &amp; \\frac{1}{\\sqrt{2}} \\\\[2mm]\n",
        "    \\frac{1}{\\sqrt{2}} &amp; -\\frac{1}{\\sqrt{2}}\n",
        "  \\end{pmatrix}^{\\dagger}\n",
        "  \\begin{pmatrix}\n",
        "    \\frac{1}{\\sqrt{2}} &amp; \\frac{1}{\\sqrt{2}} \\\\[2mm]\n",
        "    \\frac{1}{\\sqrt{2}} &amp; -\\frac{1}{\\sqrt{2}}\n",
        "  \\end{pmatrix}\n",
        "  &amp; =\n",
        "  \\begin{pmatrix}\n",
        "    \\frac{1}{\\sqrt{2}} &amp; \\frac{1}{\\sqrt{2}} \\\\[2mm]\n",
        "    \\frac{1}{\\sqrt{2}} &amp; -\\frac{1}{\\sqrt{2}}\n",
        "  \\end{pmatrix}\n",
        "  \\begin{pmatrix}\n",
        "    \\frac{1}{\\sqrt{2}} &amp; \\frac{1}{\\sqrt{2}} \\\\[2mm]\n",
        "    \\frac{1}{\\sqrt{2}} &amp; -\\frac{1}{\\sqrt{2}}\n",
        "  \\end{pmatrix}\\\\[2mm]\n",
        "  &amp; = \\begin{pmatrix}\n",
        "    \\frac{1}{2} + \\frac{1}{2} &amp; \\frac{1}{2} - \\frac{1}{2}\\\\[2mm]\n",
        "    \\frac{1}{2} - \\frac{1}{2} &amp; \\frac{1}{2} + \\frac{1}{2}\n",
        "  \\end{pmatrix}\\\\[2mm]\n",
        "  &amp; =\n",
        "  \\begin{pmatrix}\n",
        "    1 &amp; 0\\\\\n",
        "    0 &amp; 1\n",
        "  \\end{pmatrix}.\n",
        "  \\end{aligned}\n",
        "$$\n",
        "\n",
        "Hier ist die Wirkung der Hadamard-Operation auf einige Qubit-Zustandsvektoren.\n",
        "\n",
        "$$\n",
        "   \\begin{aligned}\n",
        "  H \\vert 0 \\rangle &amp; =\n",
        "  \\begin{pmatrix}\n",
        "    \\frac{1}{\\sqrt{2}} &amp; \\frac{1}{\\sqrt{2}} \\\\[2mm]\n",
        "    \\frac{1}{\\sqrt{2}} &amp; -\\frac{1}{\\sqrt{2}}\n",
        "  \\end{pmatrix}\n",
        "  \\begin{pmatrix}\n",
        "    1\\\\[2mm]\n",
        "    0\n",
        "  \\end{pmatrix}\n",
        "  =\n",
        "  \\begin{pmatrix}\n",
        "    \\frac{1}{\\sqrt{2}}\\\\[2mm]\n",
        "    \\frac{1}{\\sqrt{2}}\n",
        "  \\end{pmatrix}\n",
        "  = \\vert + \\rangle,\\\\[2mm]\n",
        "  H \\vert 1 \\rangle\n",
        "  &amp; =\n",
        "  \\begin{pmatrix}\n",
        "    \\frac{1}{\\sqrt{2}} &amp; \\frac{1}{\\sqrt{2}} \\\\[2mm]\n",
        "    \\frac{1}{\\sqrt{2}} &amp; -\\frac{1}{\\sqrt{2}}\n",
        "  \\end{pmatrix}\n",
        "  \\begin{pmatrix}\n",
        "    0\\\\[2mm]\n",
        "    1\n",
        "  \\end{pmatrix}\n",
        "  =\n",
        "  \\begin{pmatrix}\n",
        "    \\frac{1}{\\sqrt{2}}\\\\[2mm]\n",
        "    -\\frac{1}{\\sqrt{2}}\n",
        "  \\end{pmatrix}\n",
        "  = \\vert - \\rangle,\\\\[2mm]\n",
        "  H \\vert + \\rangle\n",
        "  &amp; =\n",
        "  \\begin{pmatrix}\n",
        "    \\frac{1}{\\sqrt{2}} &amp; \\frac{1}{\\sqrt{2}} \\\\[2mm]\n",
        "    \\frac{1}{\\sqrt{2}} &amp; -\\frac{1}{\\sqrt{2}}\n",
        "  \\end{pmatrix}\n",
        "  \\begin{pmatrix}\n",
        "    \\frac{1}{\\sqrt{2}}\\\\[2mm]\n",
        "    \\frac{1}{\\sqrt{2}}\n",
        "  \\end{pmatrix}\n",
        "  =\n",
        "  \\begin{pmatrix}\n",
        "    1\\\\[2mm]\n",
        "    0\n",
        "  \\end{pmatrix}\n",
        "  = \\vert 0 \\rangle,\\\\[2mm]\n",
        "  H \\vert - \\rangle\n",
        "  &amp; =\n",
        "  \\begin{pmatrix}\n",
        "    \\frac{1}{\\sqrt{2}} &amp; \\frac{1}{\\sqrt{2}} \\\\[2mm]\n",
        "    \\frac{1}{\\sqrt{2}} &amp; -\\frac{1}{\\sqrt{2}}\n",
        "  \\end{pmatrix}\n",
        "  \\begin{pmatrix}\n",
        "    \\frac{1}{\\sqrt{2}}\\\\[2mm]\n",
        "    -\\frac{1}{\\sqrt{2}}\n",
        "  \\end{pmatrix}\n",
        "  =\n",
        "  \\begin{pmatrix}\n",
        "    0\\\\[2mm]\n",
        "    1\n",
        "  \\end{pmatrix}\n",
        "  = \\vert 1 \\rangle\n",
        "  \\end{aligned}\n",
        "$$\n",
        "\n",
        "und\n",
        "\n",
        "$$\n",
        "  \\begin{aligned}\n",
        "    H \\biggl(\\frac{1+2i}{3} \\vert 0\\rangle - \\frac{2}{3} \\vert 1\\rangle\\biggr)\n",
        "    &amp; =\n",
        "    \\begin{pmatrix}\n",
        "      \\frac{1}{\\sqrt{2}} &amp; \\frac{1}{\\sqrt{2}} \\\\[2mm]\n",
        "      \\frac{1}{\\sqrt{2}} &amp; -\\frac{1}{\\sqrt{2}}\n",
        "    \\end{pmatrix}\n",
        "    \\begin{pmatrix}\n",
        "      \\frac{1+2i}{3}\\\\[2mm]\n",
        "      -\\frac{2}{3}\n",
        "    \\end{pmatrix}\\\\[2mm]\n",
        "    &amp; =\n",
        "    \\begin{pmatrix}\n",
        "      \\frac{-1+2i}{3\\sqrt{2}}\\\\[2mm]\n",
        "      \\frac{3+2i}{3\\sqrt{2}}\n",
        "    \\end{pmatrix}\\\\[2mm]\n",
        "    &amp; =\n",
        "    \\frac{-1+2i}{3\\sqrt{2}} | 0 \\rangle\n",
        "    + \\frac{3+2i}{3\\sqrt{2}} | 1 \\rangle\n",
        "  \\end{aligned}\n",
        "$$\n",
        "\n",
        "Das letzte dieser Beispiele ist nicht wichtig, aber die anderen sind es wert, prägnanter zusammengefasst zu werden.\n",
        "\n",
        "$$\n",
        "  \\begin{aligned}\n",
        "    H \\vert 0 \\rangle &amp; = \\vert + \\rangle,\\\\[2mm]\n",
        "    H \\vert 1 \\rangle &amp; = \\vert - \\rangle,\\\\[2mm]\n",
        "    H \\vert + \\rangle &amp; = \\vert 0 \\rangle,\\\\[2mm]\n",
        "    H \\vert - \\rangle &amp; = \\vert 1 \\rangle\n",
        "  \\end{aligned}\n",
        "$$\n",
        "\n",
        "Es lohnt sich, innezuhalten, um die Tatsache zu berücksichtigen, dass $H\\vert +\\rangle = \\vert 0\\rangle$ und $H\\vert -\\rangle = \\vert 1\\rangle$. Stellen Sie sich eine Situation vor, in der ein Qubit in einem der beiden Quantenzustände $\\vert +\\rangle$ und $\\vert -\\rangle$ präpariert wird, uns aber nicht bekannt ist, um welchen es sich handelt. Das Messen eines der beiden Zustände ergibt die gleiche Ausgabeverteilung wie der andere: $0$ und $1$ erscheinen beide mit gleicher Wahrscheinlichkeit $1/2.$ Dies gibt also keine Auskunft darüber, welcher der beiden Zustände $\\vert +\\rangle$ und $\\ vert -\\rangle$ wurde ursprünglich vorbereitet. Wenn wir jedoch eine Hadamard-Operation anwenden und dann messen, erhalten wir mit Sicherheit das Ergebnis $0$, wenn der ursprüngliche Zustand $\\vert +\\rangle$ war, und wir erhalten wieder mit Sicherheit das Ergebnis $1,$, wenn der ursprüngliche Zustand $ war \\vert -\\rangle$. Damit lassen sich die Quantenzustände $\\vert +\\rangle$ und $\\vert -\\rangle$ *perfekt* unterscheiden . Dies zeigt, dass Vorzeichenänderungen oder allgemeiner Änderungen der *Phasen* (die traditionell auch als *Argumente* bezeichnet werden) der komplexen Zahleneinträge eines Quantenzustandsvektors diesen Zustand erheblich ändern können.\n",
        "\n",
        "Hier ist ein weiteres Beispiel, diesmal für die Aktion einer $T$-Operation auf einen Plus-Zustand.\n",
        "\n",
        "$$\n",
        "  T \\vert +\\rangle\n",
        "  = T \\biggl(\\frac{1}{\\sqrt{2}} \\vert 0\\rangle + \\frac{1}{\\sqrt{2}} \\vert 1\\rangle\\biggr)\n",
        "  = \\frac{1}{\\sqrt{2}} T\\vert 0\\rangle + \\frac{1}{\\sqrt{2}} T\\vert 1\\rangle\n",
        "  = \\frac{1}{\\sqrt{2}} \\vert 0\\rangle + \\frac{1+i}{2} \\vert 1\\rangle\n",
        "$$\n",
        "\n",
        "Beachten Sie hier, dass wir uns nicht die Mühe gemacht haben, in die äquivalenten Matrix-/Vektorformen umzuwandeln, und stattdessen die Linearität der Matrixmultiplikation zusammen mit den Formeln verwendet haben\n",
        "\n",
        "$$\n",
        "T \\vert 0\\rangle = \\vert 0\\rangle\n",
        "\\quad\\text{and}\\quad\n",
        "T \\vert 1\\rangle = \\frac{1 + i}{\\sqrt{2}} \\vert 1\\rangle.\n",
        "$$\n",
        "\n",
        "In ähnlicher Weise können wir das Ergebnis der Anwendung einer Hadamard-Operation auf den gerade erhaltenen Quantenzustandsvektor berechnen:\n",
        "\n",
        "$$\n",
        "\\begin{aligned}\n",
        "H\\,  \\biggl(\\frac{1}{\\sqrt{2}} \\vert 0\\rangle + \\frac{1+i}{2} \\vert 1\\rangle\\biggr)\n",
        "&amp; = \\frac{1}{\\sqrt{2}} H \\vert 0\\rangle + \\frac{1+i}{2} H \\vert 1\\rangle\\\\\n",
        "&amp; = \\frac{1}{\\sqrt{2}} \\vert +\\rangle + \\frac{1+i}{2} \\vert -\\rangle \\\\\n",
        "&amp; = \\biggl(\\frac{1}{2} \\vert 0\\rangle + \\frac{1}{2} \\vert 1\\rangle\\biggr)\n",
        "+ \\biggl(\\frac{1+i}{2\\sqrt{2}} \\vert 0\\rangle - \\frac{1+i}{2\\sqrt{2}} \\vert 1\\rangle\\biggr)\\\\\n",
        "&amp; = \\biggl(\\frac{1}{2} + \\frac{1+i}{2\\sqrt{2}}\\biggr) \\vert 0\\rangle\n",
        "+ \\biggl(\\frac{1}{2} - \\frac{1+i}{2\\sqrt{2}}\\biggr) \\vert 1\\rangle.\n",
        "\\end{aligned}\n",
        "$$\n",
        "\n",
        "Die beiden Ansätze – einer, bei dem wir explizit in Matrixdarstellungen konvertieren, und der andere, bei dem wir Linearität verwenden und die Aktionen einer Operation auf Standardbasiszuständen einfügen – sind äquivalent. Wir können das verwenden, was im vorliegenden Fall bequemer ist.\n",
        "\n",
        "#### Zusammensetzungen von einheitlichen Qubit-Operationen\n",
        "\n",
        "Zusammensetzungen unitärer Operationen werden durch Matrizenmultiplikation dargestellt, genau wie wir es in der probabilistischen Umgebung getan haben. Wenn wir beispielsweise zuerst eine Hadamard-Operation anwenden, gefolgt von der $S$-Operation, gefolgt von einer weiteren Hadamard-Operation, sieht die resultierende Operation (die wir $R$ nennen) wie folgt aus:\n",
        "\n",
        "$$\n",
        "  R = H S H =\n",
        "  \\begin{pmatrix}\n",
        "    \\frac{1}{\\sqrt{2}} &amp; \\frac{1}{\\sqrt{2}} \\\\[2mm]\n",
        "    \\frac{1}{\\sqrt{2}} &amp; -\\frac{1}{\\sqrt{2}}\n",
        "  \\end{pmatrix}\n",
        "  \\begin{pmatrix}\n",
        "    1 &amp; 0\\\\\n",
        "    0 &amp; i\n",
        "  \\end{pmatrix}\n",
        "  \\begin{pmatrix}\n",
        "    \\frac{1}{\\sqrt{2}} &amp; \\frac{1}{\\sqrt{2}} \\\\[2mm]\n",
        "    \\frac{1}{\\sqrt{2}} &amp; -\\frac{1}{\\sqrt{2}}\n",
        "  \\end{pmatrix}\n",
        "  =\n",
        "  \\begin{pmatrix}\n",
        "    \\frac{1+i}{2} &amp; \\frac{1-i}{2} \\\\[2mm]\n",
        "    \\frac{1-i}{2} &amp; \\frac{1+i}{2}\n",
        "  \\end{pmatrix}.\n",
        "$$\n",
        "\n",
        "Diese unitäre Operation $R$ ist ein interessantes Beispiel. Durch zweimaliges Anwenden dieser Operation, was dem Quadrieren ihrer Matrixdarstellung entspricht, erhalten wir eine NOT-Operation:\n",
        "\n",
        "$$\n",
        "  R^2 =\n",
        "  \\begin{pmatrix}\n",
        "    \\frac{1+i}{2} &amp; \\frac{1-i}{2} \\\\[2mm]\n",
        "    \\frac{1-i}{2} &amp; \\frac{1+i}{2}\n",
        "  \\end{pmatrix}^2\n",
        "  =\n",
        "  \\begin{pmatrix}\n",
        "    0 &amp; 1 \\\\[2mm]\n",
        "    1 &amp; 0\n",
        "  \\end{pmatrix}.\n",
        "$$\n",
        "\n",
        "Das heißt, $R$ ist eine *Quadratwurzel der NOT-* Operation. Ein solches Verhalten, bei dem dieselbe Operation zweimal angewendet wird, um eine NICHT-Operation zu ergeben, ist für eine klassische Operation auf einem einzelnen Bit nicht möglich. Das hängt damit zusammen, dass man aus einer negativen Zahl nicht die Quadratwurzel ziehen und auf der reellen Linie bleiben kann.\n",
        "\n",
        "Sie können die nachstehende interaktive Komponente verwenden, um eine Folge von einheitlichen Qubit-Operationen zu erstellen. Es zeigt Ihnen sowohl die Matrixdarstellung der resultierenden einheitlichen Operation als auch ihre Aktion auf den Zustand $\\vert 0\\rangle$, den wir als initialisierten Standardzustand eines Qubits betrachten. Um die Reihenfolge anzugeben, ziehen Sie die Operationen, die Sie auf dem Qubit ausführen möchten, nach unten auf die Linie: Die Operation ganz links wird zuerst und die Operation ganz rechts zuletzt angewendet. Diagramme wie dieses stellen *Quantenschaltkreise* dar, die in Lektion 3 ausführlicher und allgemeiner besprochen werden."
      ]
    },
    {
      "cell_type": "markdown",
      "id": "ed49552c",
      "metadata": {
        "scrolled": true
      },
      "source": [
        "<!-- ::: q-block -->\n",
        "\n",
        "### Circuit-Sandbox\n",
        "\n",
        "```\n",
        "q-circuit-sandbox-widget(goal=\"single-systems-circuit-sandbox\")\n",
        "    .availableGates X Y Z H S T\n",
        "    .instructions Drag the operations down onto the circuit to see how they transform the qubit.\n",
        "    .explanation The <strong>matrix</strong> display shows the unitary matrix of the circuit (i.e., of all the operations composed together). The <strong>state vector</strong> display shows the state of the qubit after the operations act on it.\n",
        "```\n",
        "\n",
        "<!-- ::: -->"
      ]
    },
    {
      "cell_type": "markdown",
      "id": "e3b623b4",
      "metadata": {
        "formulas": {
          "_u00": {
            "meaning": "The probability amplitude of this operation transforming the input qubit from 0 → 0."
          },
          "_u01": {
            "meaning": "The probability amplitude of this operation transforming the input qubit from 0 → 1."
          },
          "_u02": {
            "meaning": "The probability amplitude of this operation transforming the input qubit from 0 → 2."
          },
          "_u10": {
            "meaning": "The probability amplitude of this operation transforming the input qubit from 1 → 0."
          },
          "_u11": {
            "meaning": "The probability amplitude of this operation transforming the input qubit from 1 → 1."
          },
          "_u12": {
            "meaning": "The probability amplitude of this operation transforming the input qubit from 1 → 2."
          },
          "_u20": {
            "meaning": "The probability amplitude of this operation transforming the input qubit from 2 → 0."
          },
          "_u21": {
            "meaning": "The probability amplitude of this operation transforming the input qubit from 2 → 1."
          },
          "_u22": {
            "meaning": "The probability amplitude of this operation transforming the input qubit from 2 → 2."
          }
        }
      },
      "source": [
        "#### Einheitliche Operationen auf größeren Systemen\n",
        "\n",
        "In späteren Lektionen werden wir viele Beispiele von unitären Operationen auf Systemen mit mehr als zwei klassischen Zuständen sehen. Ein Beispiel einer unitären Operation auf einem System mit drei klassischen Zuständen ist durch die folgende Matrix gegeben.\n",
        "\n",
        "$$\n",
        "  A =\n",
        "  \\begin{pmatrix}\n",
        "    \\class{_u00}{0} &amp; \\class{_u10}{0} &amp; \\class{_u20}{1} \\\\\n",
        "    \\class{_u01}{1} &amp; \\class{_u11}{0} &amp; \\class{_u21}{0} \\\\\n",
        "    \\class{_u02}{0} &amp; \\class{_u12}{1} &amp; \\class{_u22}{0}\n",
        "  \\end{pmatrix}\n",
        "$$\n",
        "\n",
        "Unter der Annahme, dass die klassischen Zustände des Systems $0,$ $1,$ und $2,$ sind, können wir diese Operation als Addition modulo $3.$ beschreiben\n",
        "\n",
        "$$\n",
        "  A \\vert 0\\rangle = \\vert 1\\rangle,\n",
        "  \\quad\n",
        "  A \\vert 1\\rangle = \\vert 2\\rangle,\n",
        "  \\quad\\text{and}\\quad\n",
        "  A \\vert 2\\rangle = \\vert 0\\rangle\n",
        "$$\n",
        "\n",
        "Die Matrix $A$ ist ein Beispiel für eine *Permutationsmatrix* , bei der jede Zeile und Spalte genau ein $1 hat.$ Solche Matrizen ordnen oder vertauschen nur die Einträge des Vektors, auf den sie wirken. Die Identität ist die einfachste Permutationsmatrix; Ein weiteres Beispiel ist die NOT-Operation für ein Bit oder Qubit. Jede Permutationsmatrix in jeder positiven ganzzahligen Dimension ist einheitlich. Dies sind die einzigen Beispiele für Matrizen, die sowohl klassische als auch Quantenoperationen darstellen: Eine Matrix ist genau dann stochastisch und einheitlich, wenn sie eine Permutationsmatrix ist.\n",
        "\n",
        "Ein weiteres Beispiel für eine unitäre Matrix, diesmal eine $4\\times 4$-Matrix, ist diese hier:\n",
        "\n",
        "$$\n",
        "  U =\n",
        "  \\frac{1}{2}\n",
        "  \\begin{pmatrix}\n",
        "    1 &amp; 1 &amp; 1 &amp; 1 \\\\\n",
        "    1 &amp; i &amp; -1 &amp; -i \\\\\n",
        "    1 &amp; -1 &amp; 1 &amp; -1 \\\\\n",
        "    1 &amp; -i &amp; -1 &amp; i\n",
        "  \\end{pmatrix}.\n",
        "$$\n",
        "\n",
        "Diese Matrix beschreibt eine Operation, die als *Quanten-Fourier-Transformation* bekannt ist, insbesondere im Fall $4\\times 4$. Die Quanten-Fourier-Transformation kann allgemeiner für jede positive ganzzahlige Dimension $n$ definiert werden und wird in Einheit 2 über Quantenalgorithmen eine Schlüsselrolle spielen."
      ]
    },
    {
      "cell_type": "markdown",
      "id": "defaab70",
      "metadata": {
      },
      "source": [
        "## 3. Qiskit-Implementierungen\n",
        "\n",
        "In diesem Abschnitt präsentieren wir einige Beispiele für Qiskit-Implementierungen der in dieser Lektion vorgestellten Konzepte.\n",
        "\n",
        "### 3.1 Vektoren und Matrizen in Python\n",
        "\n",
        "Qiskit verwendet die Programmiersprache Python, daher kann es hilfreich sein, bevor wir uns speziell mit Qiskit befassen, kurz Matrix- und Vektorberechnungen in Python zu erörtern. In Python können Matrix- und Vektorberechnungen mit der `array` -Klasse aus der `NumPy` -Bibliothek durchgeführt werden (die viele zusätzliche Komponenten für numerische Berechnungen enthält).\n",
        "\n",
        "Hier ist ein Beispiel einer Codezelle, die zwei Vektoren definiert, `ket0` und `ket1` , die den Qubit-Zustandsvektoren $\\vert 0\\rangle$ und $\\vert 1\\rangle$ entsprechen, und deren Durchschnitt anzeigt."
      ]
    },
    {
      "cell_type": "code",
      "execution_count": null,
      "id": "d76964d8",
      "metadata": {
      },
      "outputs": [

      ],
      "source": [
        "from numpy import array\n",
        "\n",
        "ket0 = array([1, 0])\n",
        "ket1 = array([0, 1])\n",
        "\n",
        "display(ket0/2 + ket1/2)"
      ]
    },
    {
      "cell_type": "markdown",
      "id": "07f77c64",
      "metadata": {
      },
      "source": [
        "Es ist eigentlich nicht notwendig, explizit den `display` zu verwenden, um das Ergebnis dieser Berechnung zu sehen. Wir können stattdessen einfach den Interessenausdruck als letzte Zeile der Codezelle schreiben, und er wird als Ausgabe zurückgegeben:"
      ]
    },
    {
      "cell_type": "code",
      "execution_count": null,
      "id": "b51320d3",
      "metadata": {
      },
      "outputs": [

      ],
      "source": [
        "ket0/2 + ket1/2"
      ]
    },
    {
      "cell_type": "markdown",
      "id": "c33bdaa6",
      "metadata": {
      },
      "source": [
        "Diese Codezelle veranschaulicht auch, dass das sequenzielle Ausführen von Codezellen auf einer bestimmten Seite dieses Lehrbuchs einen kumulativen Effekt hat, sodass es nicht erforderlich ist, die `array` -Klasse neu zu laden oder `ket0` und `ket1` erneut zu definieren. Ein erneutes Laden der Seite oder ein Wechsel zu einer anderen Seite setzt jedoch alles in den Ausgangszustand zurück.\n",
        "\n",
        "Als allgemeine Richtlinie sollten die Codezellen in jedem nummerierten Unterabschnitt dieses Kurses nacheinander ausgeführt werden. Wenn also das Ausführen einer Codezelle einen Fehler erzeugt, stellen Sie sicher, dass Sie zuerst alle vorherigen Codezellen innerhalb des Unterabschnitts ausführen, in dem diese Codezelle erscheint."
      ]
    },
    {
      "cell_type": "markdown",
      "id": "963b22d1",
      "metadata": {
      },
      "source": [
        "Wir können `array` auch verwenden, um Matrizen zu erstellen, die Operationen darstellen."
      ]
    },
    {
      "cell_type": "code",
      "execution_count": null,
      "id": "11733a15",
      "metadata": {
        "scrolled": true
      },
      "outputs": [

      ],
      "source": [
        "M1 = array([[1, 1], [0, 0]])\n",
        "M2 = array([[1, 1], [1, 0]])\n",
        "\n",
        "M1/2 + M2/2"
      ]
    },
    {
      "cell_type": "markdown",
      "id": "947648f3",
      "metadata": {
      },
      "source": [
        "Die Matrixmultiplikation (einschließlich der Matrix-Vektor-Multiplikation als Spezialfall) kann mit der Funktion `matmul` von `NumPy` durchgeführt werden:"
      ]
    },
    {
      "cell_type": "code",
      "execution_count": null,
      "id": "ade2c9dc",
      "metadata": {
      },
      "outputs": [

      ],
      "source": [
        "from numpy import matmul\n",
        "\n",
        "display(matmul(M1,ket1))\n",
        "display(matmul(M1,M2))\n",
        "display(matmul(M2,M1))"
      ]
    },
    {
      "cell_type": "markdown",
      "id": "20e10506",
      "metadata": {
      },
      "source": [
        "### 3.2 Zustände, Messungen und Operationen in Qiskit\n",
        "\n",
        "Qiskit enthält mehrere Klassen, die es ermöglichen, Zustände, Messungen und Operationen einfach zu erstellen und zu manipulieren – es ist also nicht erforderlich, von Grund auf neu zu beginnen und alles zu programmieren, was zum Simulieren von Quantenzuständen, Messungen und Operationen in Python erforderlich ist. Einige Beispiele für den Einstieg sind unten aufgeführt.\n",
        "\n",
        "#### Definieren und Anzeigen von Zustandsvektoren\n",
        "\n",
        "Die `Statevector` -Klasse von Qiskit bietet Funktionen zum Definieren und Manipulieren von Quantenzustandsvektoren. Die folgende Codezelle importiert die `Statevector` -Klasse und definiert einige Vektoren, die sie verwenden:"
      ]
    },
    {
      "cell_type": "code",
      "execution_count": null,
      "id": "36e7b320",
      "metadata": {
      },
      "outputs": [

      ],
      "source": [
        "from qiskit.quantum_info import Statevector\n",
        "from numpy import sqrt\n",
        "\n",
        "u = Statevector([1/sqrt(2), 1/sqrt(2)])\n",
        "v = Statevector([(1+2.j)/3, -2/3])\n",
        "w = Statevector([1/3, 2/3])\n",
        "\n",
        "print(\"State vectors u, v, and w have been defined.\")"
      ]
    },
    {
      "cell_type": "markdown",
      "id": "70e704a3",
      "metadata": {
      },
      "source": [
        "(Beachten Sie, dass wir die Funktion `sqrt` aus der `NumPy` -Bibliothek benötigen, um die Quadratwurzeln für den Vektor `u` zu berechnen.)\n",
        "\n",
        "Die `Statevector` -Klasse bietet eine Zeichenmethode zum Anzeigen von Zustandsvektoren, einschließlich `latex` und `draw` für verschiedene Visualisierungen, wie diese `text` zeigt:"
      ]
    },
    {
      "cell_type": "code",
      "execution_count": null,
      "id": "aad3460f",
      "metadata": {
      },
      "outputs": [

      ],
      "source": [
        "display(u.draw('latex'))\n",
        "display(v.draw('text'))"
      ]
    },
    {
      "cell_type": "markdown",
      "id": "61448553",
      "metadata": {
      },
      "source": [
        "Die `Statevector` -Klasse enthält auch die `is_valid` Methode, die prüft, ob ein gegebener Vektor ein gültiger Quantenzustandsvektor ist (d. h., dass er eine euklidische Norm gleich 1 hat):"
      ]
    },
    {
      "cell_type": "code",
      "execution_count": null,
      "id": "68dc6a1b",
      "metadata": {
        "scrolled": true
      },
      "outputs": [

      ],
      "source": [
        "display(u.is_valid())\n",
        "display(v.is_valid())\n",
        "display(w.is_valid())"
      ]
    },
    {
      "cell_type": "markdown",
      "id": "26918a81",
      "metadata": {
      },
      "source": [
        "#### Simulation von Messungen mit `Statevector`\n",
        "\n",
        "Als Nächstes sehen wir eine Möglichkeit, wie Messungen von Quantenzuständen in Qiskit simuliert werden können, indem die Methode `measure` aus der `Statevector` -Klasse verwendet wird.\n",
        "\n",
        "Zuerst erstellen wir einen Qubit-Zustandsvektor `v` und zeigen ihn dann an."
      ]
    },
    {
      "cell_type": "code",
      "execution_count": null,
      "id": "d811bcf2",
      "metadata": {
      },
      "outputs": [

      ],
      "source": [
        "v = Statevector([(1+2.j)/3, -2/3])\n",
        "v.draw('latex')"
      ]
    },
    {
      "cell_type": "markdown",
      "id": "cdd4d5e1",
      "metadata": {
      },
      "source": [
        "(Beachten Sie, dass Codezellen geändert werden können, also ändern Sie die Spezifikation des Vektors, wenn Sie möchten. Alternativ können Sie das Notizfeld rechts verwenden, um mit Codezellen zu experimentieren.)\n",
        "\n",
        "Als Nächstes wird durch Ausführen der Messmethode eine `measure` simuliert. Es gibt das Ergebnis dieser Messung sowie den neuen Quantenzustand unseres Systems nach dieser Messung zurück."
      ]
    },
    {
      "cell_type": "code",
      "execution_count": null,
      "id": "0eeafda1",
      "metadata": {
        "scrolled": true
      },
      "outputs": [

      ],
      "source": [
        "v.measure()"
      ]
    },
    {
      "cell_type": "markdown",
      "id": "b4843cbc",
      "metadata": {
      },
      "source": [
        "Messergebnisse sind probabilistisch, sodass dieselbe Methode unterschiedliche Ergebnisse liefern kann. Versuchen Sie, die Zelle ein paar Mal laufen zu lassen, um dies zu sehen.\n",
        "\n",
        "Für das spezielle Beispiel des oben definierten Vektors `v` definiert das Messverfahren den Quantenzustandsvektor, nachdem die `measure` stattgefunden hat, zu sein\n",
        "\n",
        "$$\n",
        "\\frac{1 + 2i}{\\sqrt{3}} \\vert 0\\rangle\n",
        "$$\n",
        "\n",
        "(statt $\\vert 0\\rangle$) oder\n",
        "\n",
        "$$\n",
        "- \\vert 1\\rangle\n",
        "$$\n",
        "\n",
        "(statt $\\vert 1\\rangle$), je nach Messergebnis. In beiden Fällen sind die Alternativen tatsächlich äquivalent – man sagt, dass sie *sich durch eine globale Phase unterscheiden,* weil eine der anderen gleich ist, multipliziert mit einer komplexen Zahl auf dem Einheitskreis. Dieses Problem wird in Lektion 3 ausführlicher behandelt und kann vorerst getrost ignoriert werden.\n",
        "\n",
        "Abgesehen davon gibt `Statevector` einen Fehler aus, wenn `measure` Messmethode auf einen ungültigen Quantenzustandsvektor angewendet wird. Gehen Sie voran und versuchen Sie es, wenn Sie so geneigt sind!\n",
        "\n",
        "`Statevector` außerdem über eine `sample_counts` Methode, die die Simulation einer beliebigen Anzahl von Messungen auf dem System ermöglicht. Zum Beispiel zeigt die folgende Zelle das Ergebnis der Messung des Vektors `v` $1000$ Mal, was (mit hoher Wahrscheinlichkeit) zu dem Ergebnis $0$ führt, ungefähr $5$ von allen $9$ Malen (oder etwa $556$ der $1000$ Versuche). und das Ergebnis 1 $ ungefähr 4 $ von jedem 9 $-Mal (oder ungefähr 444 $ von den 1000 $-Versuchen). Die Zelle demonstriert auch die Funktion `plot_histogram` zur Visualisierung der Ergebnisse."
      ]
    },
    {
      "cell_type": "code",
      "execution_count": null,
      "id": "fde6ccf9",
      "metadata": {
        "scrolled": false
      },
      "outputs": [

      ],
      "source": [
        "from qiskit.visualization import plot_histogram\n",
        "\n",
        "statistics = v.sample_counts(1000)\n",
        "display(statistics)\n",
        "plot_histogram(statistics)"
      ]
    },
    {
      "cell_type": "markdown",
      "id": "dccc139c",
      "metadata": {
      },
      "source": [
        "Das Ausprobieren unterschiedlicher Stichprobenzahlen anstelle von 1000 US-Dollar kann hilfreich sein, um eine gewisse Intuition dafür zu entwickeln, wie die Anzahl der Versuche die geschätzten Wahrscheinlichkeiten beeinflusst."
      ]
    },
    {
      "cell_type": "markdown",
      "id": "326d298e",
      "metadata": {
      },
      "source": [
        "#### Ausführen von Operationen mit `Operator` und `Statevector`\n",
        "\n",
        "Einheitliche Operationen können definiert und an Zustandsvektoren in Qiskit unter Verwendung der `Operator` -Klasse ausgeführt werden, wie im folgenden Beispiel."
      ]
    },
    {
      "cell_type": "code",
      "execution_count": null,
      "id": "4fe2e414",
      "metadata": {
      },
      "outputs": [

      ],
      "source": [
        "from qiskit.quantum_info import Operator\n",
        "\n",
        "X = Operator([[0,1],[1,0]])\n",
        "Y = Operator([[0,-1.j],[1.j,0]])\n",
        "Z = Operator([[1,0],[0,-1]])\n",
        "H = Operator([[1/sqrt(2),1/sqrt(2)],[1/sqrt(2),-1/sqrt(2)]])\n",
        "S = Operator([[1,0],[0,1.j]])\n",
        "T = Operator([[1,0],[0,(1+1.j)/sqrt(2)]])\n",
        "\n",
        "v = Statevector([1,0])\n",
        "\n",
        "v = v.evolve(H)\n",
        "v = v.evolve(T)\n",
        "v = v.evolve(H)\n",
        "v = v.evolve(T)\n",
        "v = v.evolve(Z)\n",
        "\n",
        "v.draw('latex')"
      ]
    },
    {
      "cell_type": "markdown",
      "id": "fafda2cc",
      "metadata": {
      },
      "source": [
        "#### Ausblick auf Quantenschaltkreise\n",
        "\n",
        "Quantenschaltkreise werden erst in Lektion 3 offiziell eingeführt, aber wir können dennoch mit dem Erstellen von einheitlichen Qubit-Operationen experimentieren, indem wir die `QuantumCircuit` -Klasse von Qiskit verwenden. Insbesondere können wir einen Quantenschaltkreis (der in diesem Fall einfach eine Folge einheitlicher Operationen ist, die an einem einzelnen Qubit ausgeführt werden) wie folgt definieren."
      ]
    },
    {
      "cell_type": "code",
      "execution_count": null,
      "id": "68490946",
      "metadata": {
      },
      "outputs": [

      ],
      "source": [
        "from qiskit import QuantumCircuit\n",
        "\n",
        "circuit = QuantumCircuit(1)\n",
        "\n",
        "circuit.h(0)\n",
        "circuit.t(0)\n",
        "circuit.h(0)\n",
        "circuit.t(0)\n",
        "circuit.z(0)\n",
        "\n",
        "circuit.draw()"
      ]
    },
    {
      "cell_type": "markdown",
      "id": "8426be38",
      "metadata": {
      },
      "source": [
        "Die Operationen werden sequentiell angewendet, beginnend links und endend rechts in der Abbildung. Lassen Sie uns zunächst einen Startquantenzustandsvektor initialisieren und diesen Zustand dann gemäß der Abfolge von Operationen weiterentwickeln."
      ]
    },
    {
      "cell_type": "code",
      "execution_count": null,
      "id": "5a81f9bf",
      "metadata": {
      },
      "outputs": [

      ],
      "source": [
        "ket0 = Statevector([1,0])\n",
        "v = ket0.evolve(circuit)\n",
        "v.draw('latex')"
      ]
    },
    {
      "cell_type": "markdown",
      "id": "fc2b9797",
      "metadata": {
      },
      "source": [
        "Lassen Sie uns schließlich das Ergebnis der 4000-maligen Ausführung dieses Experiments simulieren (dh den Zustand $\\vert 0\\rangle$ vorbereiten, die durch die Schaltung dargestellte Operationsfolge anwenden und messen)."
      ]
    },
    {
      "cell_type": "code",
      "execution_count": null,
      "id": "26dec838",
      "metadata": {
        "scrolled": true
      },
      "outputs": [

      ],
      "source": [
        "statistics = v.sample_counts(4000)\n",
        "plot_histogram(statistics)"
      ]
    }
  ],
  "metadata": {
    "kernelspec": {
      "display_name": "Python 3",
      "language": "python",
      "name": "python3"
    },
    "language_info": {
      "codemirror_mode": {
        "name": "ipython",
        "version": 3
      },
      "file_extension": ".py",
      "mimetype": "text/x-python",
      "name": "python",
      "nbconvert_exporter": "python",
      "pygments_lexer": "ipython3",
      "version": "3.9"
    }
  },
  "nbformat": 4,
  "nbformat_minor": 5
}
